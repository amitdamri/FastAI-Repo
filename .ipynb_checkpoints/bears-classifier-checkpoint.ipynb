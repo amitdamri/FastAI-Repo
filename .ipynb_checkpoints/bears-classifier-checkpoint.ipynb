{
 "cells": [
  {
   "cell_type": "code",
   "execution_count": 1,
   "id": "69646b2a",
   "metadata": {
    "collapsed": true
   },
   "outputs": [
    {
     "name": "stdout",
     "output_type": "stream",
     "text": [
      "Requirement already satisfied: voila in d:\\users\\amit\\anaconda3\\envs\\datasci-env-py38\\lib\\site-packages (0.4.0)\n",
      "Requirement already satisfied: jupyter-client<=7.4.1,>=6.1.3 in d:\\users\\amit\\anaconda3\\envs\\datasci-env-py38\\lib\\site-packages (from voila) (7.1.2)\n",
      "Requirement already satisfied: jupyterlab-server<3,>=2.3.0 in d:\\users\\amit\\anaconda3\\envs\\datasci-env-py38\\lib\\site-packages (from voila) (2.16.5)\n",
      "Requirement already satisfied: jupyter-server<2.0.0,>=1.18 in d:\\users\\amit\\anaconda3\\envs\\datasci-env-py38\\lib\\site-packages (from voila) (1.23.3)\n",
      "Requirement already satisfied: nbclient<0.8,>=0.4.0 in d:\\users\\amit\\anaconda3\\envs\\datasci-env-py38\\lib\\site-packages (from voila) (0.5.10)\n",
      "Requirement already satisfied: traitlets<6,>=5.0.3 in d:\\users\\amit\\anaconda3\\envs\\datasci-env-py38\\lib\\site-packages (from voila) (5.8.0)\n",
      "Requirement already satisfied: websockets>=9.0 in d:\\users\\amit\\anaconda3\\envs\\datasci-env-py38\\lib\\site-packages (from voila) (9.1)\n",
      "Requirement already satisfied: jupyter-core>=4.11.0 in d:\\users\\amit\\anaconda3\\envs\\datasci-env-py38\\lib\\site-packages (from voila) (5.1.0)\n",
      "Requirement already satisfied: nbconvert<8,>=6.4.5 in d:\\users\\amit\\anaconda3\\envs\\datasci-env-py38\\lib\\site-packages (from voila) (6.5.0)\n",
      "Requirement already satisfied: python-dateutil>=2.1 in d:\\users\\amit\\anaconda3\\envs\\datasci-env-py38\\lib\\site-packages (from jupyter-client<=7.4.1,>=6.1.3->voila) (2.8.2)\n",
      "Requirement already satisfied: pyzmq>=13 in d:\\users\\amit\\anaconda3\\envs\\datasci-env-py38\\lib\\site-packages (from jupyter-client<=7.4.1,>=6.1.3->voila) (22.3.0)\n",
      "Requirement already satisfied: entrypoints in d:\\users\\amit\\anaconda3\\envs\\datasci-env-py38\\lib\\site-packages (from jupyter-client<=7.4.1,>=6.1.3->voila) (0.3)\n",
      "Requirement already satisfied: tornado>=4.1 in d:\\users\\amit\\anaconda3\\envs\\datasci-env-py38\\lib\\site-packages (from jupyter-client<=7.4.1,>=6.1.3->voila) (6.1)\n",
      "Requirement already satisfied: nest-asyncio>=1.5 in d:\\users\\amit\\anaconda3\\envs\\datasci-env-py38\\lib\\site-packages (from jupyter-client<=7.4.1,>=6.1.3->voila) (1.5.4)\n",
      "Requirement already satisfied: pywin32>=1.0 in d:\\users\\amit\\anaconda3\\envs\\datasci-env-py38\\lib\\site-packages (from jupyter-core>=4.11.0->voila) (303)\n",
      "Requirement already satisfied: platformdirs>=2.5 in d:\\users\\amit\\anaconda3\\envs\\datasci-env-py38\\lib\\site-packages (from jupyter-core>=4.11.0->voila) (2.6.0)\n",
      "Requirement already satisfied: jinja2 in d:\\users\\amit\\anaconda3\\envs\\datasci-env-py38\\lib\\site-packages (from jupyter-server<2.0.0,>=1.18->voila) (3.0.3)\n",
      "Requirement already satisfied: prometheus-client in d:\\users\\amit\\anaconda3\\envs\\datasci-env-py38\\lib\\site-packages (from jupyter-server<2.0.0,>=1.18->voila) (0.12.0)\n",
      "Requirement already satisfied: nbformat>=5.2.0 in d:\\users\\amit\\anaconda3\\envs\\datasci-env-py38\\lib\\site-packages (from jupyter-server<2.0.0,>=1.18->voila) (5.7.1)\n",
      "Requirement already satisfied: packaging in d:\\users\\amit\\anaconda3\\envs\\datasci-env-py38\\lib\\site-packages (from jupyter-server<2.0.0,>=1.18->voila) (21.3)\n",
      "Requirement already satisfied: websocket-client in d:\\users\\amit\\anaconda3\\envs\\datasci-env-py38\\lib\\site-packages (from jupyter-server<2.0.0,>=1.18->voila) (1.4.2)\n",
      "Requirement already satisfied: argon2-cffi in d:\\users\\amit\\anaconda3\\envs\\datasci-env-py38\\lib\\site-packages (from jupyter-server<2.0.0,>=1.18->voila) (21.3.0)\n",
      "Requirement already satisfied: Send2Trash in d:\\users\\amit\\anaconda3\\envs\\datasci-env-py38\\lib\\site-packages (from jupyter-server<2.0.0,>=1.18->voila) (1.8.0)\n",
      "Requirement already satisfied: pywinpty in d:\\users\\amit\\anaconda3\\envs\\datasci-env-py38\\lib\\site-packages (from jupyter-server<2.0.0,>=1.18->voila) (1.1.6)\n",
      "Requirement already satisfied: anyio<4,>=3.1.0 in d:\\users\\amit\\anaconda3\\envs\\datasci-env-py38\\lib\\site-packages (from jupyter-server<2.0.0,>=1.18->voila) (3.6.2)\n",
      "Requirement already satisfied: terminado>=0.8.3 in d:\\users\\amit\\anaconda3\\envs\\datasci-env-py38\\lib\\site-packages (from jupyter-server<2.0.0,>=1.18->voila) (0.12.1)\n",
      "Requirement already satisfied: json5>=0.9.0 in d:\\users\\amit\\anaconda3\\envs\\datasci-env-py38\\lib\\site-packages (from jupyterlab-server<3,>=2.3.0->voila) (0.9.10)\n",
      "Requirement already satisfied: jsonschema>=3.0.1 in d:\\users\\amit\\anaconda3\\envs\\datasci-env-py38\\lib\\site-packages (from jupyterlab-server<3,>=2.3.0->voila) (3.2.0)\n",
      "Requirement already satisfied: importlib-metadata>=4.8.3 in d:\\users\\amit\\anaconda3\\envs\\datasci-env-py38\\lib\\site-packages (from jupyterlab-server<3,>=2.3.0->voila) (4.10.1)\n",
      "Requirement already satisfied: babel>=2.10 in d:\\users\\amit\\anaconda3\\envs\\datasci-env-py38\\lib\\site-packages (from jupyterlab-server<3,>=2.3.0->voila) (2.11.0)\n",
      "Requirement already satisfied: requests>=2.28 in d:\\users\\amit\\anaconda3\\envs\\datasci-env-py38\\lib\\site-packages (from jupyterlab-server<3,>=2.3.0->voila) (2.28.1)\n",
      "Requirement already satisfied: MarkupSafe>=2.0 in d:\\users\\amit\\anaconda3\\envs\\datasci-env-py38\\lib\\site-packages (from nbconvert<8,>=6.4.5->voila) (2.0.1)\n",
      "Requirement already satisfied: tinycss2 in d:\\users\\amit\\anaconda3\\envs\\datasci-env-py38\\lib\\site-packages (from nbconvert<8,>=6.4.5->voila) (1.1.1)\n",
      "Requirement already satisfied: jupyterlab-pygments in d:\\users\\amit\\anaconda3\\envs\\datasci-env-py38\\lib\\site-packages (from nbconvert<8,>=6.4.5->voila) (0.1.2)\n",
      "Requirement already satisfied: pygments>=2.4.1 in d:\\users\\amit\\anaconda3\\envs\\datasci-env-py38\\lib\\site-packages (from nbconvert<8,>=6.4.5->voila) (2.11.2)\n",
      "Requirement already satisfied: pandocfilters>=1.4.1 in d:\\users\\amit\\anaconda3\\envs\\datasci-env-py38\\lib\\site-packages (from nbconvert<8,>=6.4.5->voila) (1.5.0)\n",
      "Requirement already satisfied: bleach in d:\\users\\amit\\anaconda3\\envs\\datasci-env-py38\\lib\\site-packages (from nbconvert<8,>=6.4.5->voila) (4.1.0)\n",
      "Requirement already satisfied: mistune<2,>=0.8.1 in d:\\users\\amit\\anaconda3\\envs\\datasci-env-py38\\lib\\site-packages (from nbconvert<8,>=6.4.5->voila) (0.8.4)"
     ]
    },
    {
     "name": "stderr",
     "output_type": "stream",
     "text": [
      "WARNING: Ignoring invalid distribution -upyter-core (d:\\users\\amit\\anaconda3\\envs\\datasci-env-py38\\lib\\site-packages)\n",
      "WARNING: Ignoring invalid distribution -ip (d:\\users\\amit\\anaconda3\\envs\\datasci-env-py38\\lib\\site-packages)\n",
      "WARNING: Ignoring invalid distribution -upyter-core (d:\\users\\amit\\anaconda3\\envs\\datasci-env-py38\\lib\\site-packages)\n",
      "WARNING: Ignoring invalid distribution -ip (d:\\users\\amit\\anaconda3\\envs\\datasci-env-py38\\lib\\site-packages)\n",
      "WARNING: Ignoring invalid distribution -upyter-core (d:\\users\\amit\\anaconda3\\envs\\datasci-env-py38\\lib\\site-packages)\n",
      "WARNING: Ignoring invalid distribution -ip (d:\\users\\amit\\anaconda3\\envs\\datasci-env-py38\\lib\\site-packages)\n",
      "WARNING: Ignoring invalid distribution -upyter-core (d:\\users\\amit\\anaconda3\\envs\\datasci-env-py38\\lib\\site-packages)\n",
      "WARNING: Ignoring invalid distribution -ip (d:\\users\\amit\\anaconda3\\envs\\datasci-env-py38\\lib\\site-packages)\n",
      "WARNING: Ignoring invalid distribution -upyter-core (d:\\users\\amit\\anaconda3\\envs\\datasci-env-py38\\lib\\site-packages)\n",
      "WARNING: Ignoring invalid distribution -ip (d:\\users\\amit\\anaconda3\\envs\\datasci-env-py38\\lib\\site-packages)\n",
      "WARNING: Ignoring invalid distribution -upyter-core (d:\\users\\amit\\anaconda3\\envs\\datasci-env-py38\\lib\\site-packages)\n",
      "WARNING: Ignoring invalid distribution -ip (d:\\users\\amit\\anaconda3\\envs\\datasci-env-py38\\lib\\site-packages)\n",
      "\n",
      "[notice] A new release of pip available: 22.2.1 -> 22.3.1\n",
      "[notice] To update, run: python.exe -m pip install --upgrade pip\n"
     ]
    },
    {
     "name": "stdout",
     "output_type": "stream",
     "text": [
      "\n",
      "Requirement already satisfied: beautifulsoup4 in d:\\users\\amit\\anaconda3\\envs\\datasci-env-py38\\lib\\site-packages (from nbconvert<8,>=6.4.5->voila) (4.11.1)\n",
      "Requirement already satisfied: defusedxml in d:\\users\\amit\\anaconda3\\envs\\datasci-env-py38\\lib\\site-packages (from nbconvert<8,>=6.4.5->voila) (0.7.1)\n",
      "Requirement already satisfied: idna>=2.8 in d:\\users\\amit\\anaconda3\\envs\\datasci-env-py38\\lib\\site-packages (from anyio<4,>=3.1.0->jupyter-server<2.0.0,>=1.18->voila) (3.1)\n",
      "Requirement already satisfied: sniffio>=1.1 in d:\\users\\amit\\anaconda3\\envs\\datasci-env-py38\\lib\\site-packages (from anyio<4,>=3.1.0->jupyter-server<2.0.0,>=1.18->voila) (1.3.0)\n",
      "Requirement already satisfied: pytz>=2015.7 in d:\\users\\amit\\anaconda3\\envs\\datasci-env-py38\\lib\\site-packages (from babel>=2.10->jupyterlab-server<3,>=2.3.0->voila) (2021.3)\n",
      "Requirement already satisfied: zipp>=0.5 in d:\\users\\amit\\anaconda3\\envs\\datasci-env-py38\\lib\\site-packages (from importlib-metadata>=4.8.3->jupyterlab-server<3,>=2.3.0->voila) (3.7.0)\n",
      "Requirement already satisfied: setuptools in d:\\users\\amit\\anaconda3\\envs\\datasci-env-py38\\lib\\site-packages (from jsonschema>=3.0.1->jupyterlab-server<3,>=2.3.0->voila) (60.9.3)\n",
      "Requirement already satisfied: pyrsistent>=0.14.0 in d:\\users\\amit\\anaconda3\\envs\\datasci-env-py38\\lib\\site-packages (from jsonschema>=3.0.1->jupyterlab-server<3,>=2.3.0->voila) (0.18.1)\n",
      "Requirement already satisfied: attrs>=17.4.0 in d:\\users\\amit\\anaconda3\\envs\\datasci-env-py38\\lib\\site-packages (from jsonschema>=3.0.1->jupyterlab-server<3,>=2.3.0->voila) (21.4.0)\n",
      "Requirement already satisfied: six>=1.11.0 in d:\\users\\amit\\anaconda3\\envs\\datasci-env-py38\\lib\\site-packages (from jsonschema>=3.0.1->jupyterlab-server<3,>=2.3.0->voila) (1.16.0)\n",
      "Requirement already satisfied: fastjsonschema in d:\\users\\amit\\anaconda3\\envs\\datasci-env-py38\\lib\\site-packages (from nbformat>=5.2.0->jupyter-server<2.0.0,>=1.18->voila) (2.16.2)\n",
      "Requirement already satisfied: pyparsing!=3.0.5,>=2.0.2 in d:\\users\\amit\\anaconda3\\envs\\datasci-env-py38\\lib\\site-packages (from packaging->jupyter-server<2.0.0,>=1.18->voila) (3.0.6)\n",
      "Requirement already satisfied: certifi>=2017.4.17 in d:\\users\\amit\\anaconda3\\envs\\datasci-env-py38\\lib\\site-packages (from requests>=2.28->jupyterlab-server<3,>=2.3.0->voila) (2021.10.8)\n",
      "Requirement already satisfied: urllib3<1.27,>=1.21.1 in d:\\users\\amit\\anaconda3\\envs\\datasci-env-py38\\lib\\site-packages (from requests>=2.28->jupyterlab-server<3,>=2.3.0->voila) (1.26.7)\n",
      "Requirement already satisfied: charset-normalizer<3,>=2 in d:\\users\\amit\\anaconda3\\envs\\datasci-env-py38\\lib\\site-packages (from requests>=2.28->jupyterlab-server<3,>=2.3.0->voila) (2.0.9)\n",
      "Requirement already satisfied: argon2-cffi-bindings in d:\\users\\amit\\anaconda3\\envs\\datasci-env-py38\\lib\\site-packages (from argon2-cffi->jupyter-server<2.0.0,>=1.18->voila) (21.2.0)\n",
      "Requirement already satisfied: soupsieve>1.2 in d:\\users\\amit\\anaconda3\\envs\\datasci-env-py38\\lib\\site-packages (from beautifulsoup4->nbconvert<8,>=6.4.5->voila) (2.3.2.post1)\n",
      "Requirement already satisfied: webencodings in d:\\users\\amit\\anaconda3\\envs\\datasci-env-py38\\lib\\site-packages (from bleach->nbconvert<8,>=6.4.5->voila) (0.5.1)\n",
      "Requirement already satisfied: cffi>=1.0.1 in d:\\users\\amit\\anaconda3\\envs\\datasci-env-py38\\lib\\site-packages (from argon2-cffi-bindings->argon2-cffi->jupyter-server<2.0.0,>=1.18->voila) (1.15.0)\n",
      "Requirement already satisfied: pycparser in d:\\users\\amit\\anaconda3\\envs\\datasci-env-py38\\lib\\site-packages (from cffi>=1.0.1->argon2-cffi-bindings->argon2-cffi->jupyter-server<2.0.0,>=1.18->voila) (2.21)\n",
      "Requirement already satisfied: ipywidgets in d:\\users\\amit\\anaconda3\\envs\\datasci-env-py38\\lib\\site-packages (8.0.3)"
     ]
    },
    {
     "name": "stderr",
     "output_type": "stream",
     "text": [
      "WARNING: Ignoring invalid distribution -upyter-core (d:\\users\\amit\\anaconda3\\envs\\datasci-env-py38\\lib\\site-packages)\n",
      "WARNING: Ignoring invalid distribution -ip (d:\\users\\amit\\anaconda3\\envs\\datasci-env-py38\\lib\\site-packages)\n",
      "WARNING: Ignoring invalid distribution -upyter-core (d:\\users\\amit\\anaconda3\\envs\\datasci-env-py38\\lib\\site-packages)\n",
      "WARNING: Ignoring invalid distribution -ip (d:\\users\\amit\\anaconda3\\envs\\datasci-env-py38\\lib\\site-packages)\n",
      "WARNING: Ignoring invalid distribution -upyter-core (d:\\users\\amit\\anaconda3\\envs\\datasci-env-py38\\lib\\site-packages)\n",
      "WARNING: Ignoring invalid distribution -ip (d:\\users\\amit\\anaconda3\\envs\\datasci-env-py38\\lib\\site-packages)\n",
      "WARNING: Ignoring invalid distribution -upyter-core (d:\\users\\amit\\anaconda3\\envs\\datasci-env-py38\\lib\\site-packages)\n",
      "WARNING: Ignoring invalid distribution -ip (d:\\users\\amit\\anaconda3\\envs\\datasci-env-py38\\lib\\site-packages)\n",
      "WARNING: Ignoring invalid distribution -upyter-core (d:\\users\\amit\\anaconda3\\envs\\datasci-env-py38\\lib\\site-packages)\n",
      "WARNING: Ignoring invalid distribution -ip (d:\\users\\amit\\anaconda3\\envs\\datasci-env-py38\\lib\\site-packages)\n",
      "WARNING: Ignoring invalid distribution -upyter-core (d:\\users\\amit\\anaconda3\\envs\\datasci-env-py38\\lib\\site-packages)\n",
      "WARNING: Ignoring invalid distribution -ip (d:\\users\\amit\\anaconda3\\envs\\datasci-env-py38\\lib\\site-packages)\n",
      "\n",
      "[notice] A new release of pip available: 22.2.1 -> 22.3.1\n",
      "[notice] To update, run: python.exe -m pip install --upgrade pip\n"
     ]
    },
    {
     "name": "stdout",
     "output_type": "stream",
     "text": [
      "\n",
      "Requirement already satisfied: ipykernel>=4.5.1 in d:\\users\\amit\\anaconda3\\envs\\datasci-env-py38\\lib\\site-packages (from ipywidgets) (6.7.0)\n",
      "Requirement already satisfied: jupyterlab-widgets~=3.0 in d:\\users\\amit\\anaconda3\\envs\\datasci-env-py38\\lib\\site-packages (from ipywidgets) (3.0.4)\n",
      "Requirement already satisfied: traitlets>=4.3.1 in d:\\users\\amit\\anaconda3\\envs\\datasci-env-py38\\lib\\site-packages (from ipywidgets) (5.8.0)\n",
      "Requirement already satisfied: widgetsnbextension~=4.0 in d:\\users\\amit\\anaconda3\\envs\\datasci-env-py38\\lib\\site-packages (from ipywidgets) (4.0.4)\n",
      "Requirement already satisfied: ipython>=6.1.0 in d:\\users\\amit\\anaconda3\\envs\\datasci-env-py38\\lib\\site-packages (from ipywidgets) (8.0.1)\n",
      "Requirement already satisfied: tornado<7.0,>=4.2 in d:\\users\\amit\\anaconda3\\envs\\datasci-env-py38\\lib\\site-packages (from ipykernel>=4.5.1->ipywidgets) (6.1)\n",
      "Requirement already satisfied: matplotlib-inline<0.2.0,>=0.1.0 in d:\\users\\amit\\anaconda3\\envs\\datasci-env-py38\\lib\\site-packages (from ipykernel>=4.5.1->ipywidgets) (0.1.3)\n",
      "Requirement already satisfied: jupyter-client<8.0 in d:\\users\\amit\\anaconda3\\envs\\datasci-env-py38\\lib\\site-packages (from ipykernel>=4.5.1->ipywidgets) (7.1.2)\n",
      "Requirement already satisfied: nest-asyncio in d:\\users\\amit\\anaconda3\\envs\\datasci-env-py38\\lib\\site-packages (from ipykernel>=4.5.1->ipywidgets) (1.5.4)\n",
      "Requirement already satisfied: debugpy<2.0,>=1.0.0 in d:\\users\\amit\\anaconda3\\envs\\datasci-env-py38\\lib\\site-packages (from ipykernel>=4.5.1->ipywidgets) (1.5.1)\n",
      "Requirement already satisfied: jedi>=0.16 in d:\\users\\amit\\anaconda3\\envs\\datasci-env-py38\\lib\\site-packages (from ipython>=6.1.0->ipywidgets) (0.18.1)\n",
      "Requirement already satisfied: decorator in d:\\users\\amit\\anaconda3\\envs\\datasci-env-py38\\lib\\site-packages (from ipython>=6.1.0->ipywidgets) (5.1.1)\n",
      "Requirement already satisfied: pygments in d:\\users\\amit\\anaconda3\\envs\\datasci-env-py38\\lib\\site-packages (from ipython>=6.1.0->ipywidgets) (2.11.2)\n",
      "Requirement already satisfied: backcall in d:\\users\\amit\\anaconda3\\envs\\datasci-env-py38\\lib\\site-packages (from ipython>=6.1.0->ipywidgets) (0.2.0)\n",
      "Requirement already satisfied: setuptools>=18.5 in d:\\users\\amit\\anaconda3\\envs\\datasci-env-py38\\lib\\site-packages (from ipython>=6.1.0->ipywidgets) (60.9.3)\n",
      "Requirement already satisfied: black in d:\\users\\amit\\anaconda3\\envs\\datasci-env-py38\\lib\\site-packages (from ipython>=6.1.0->ipywidgets) (21.12b0)\n",
      "Requirement already satisfied: stack-data in d:\\users\\amit\\anaconda3\\envs\\datasci-env-py38\\lib\\site-packages (from ipython>=6.1.0->ipywidgets) (0.1.4)\n",
      "Requirement already satisfied: pickleshare in d:\\users\\amit\\anaconda3\\envs\\datasci-env-py38\\lib\\site-packages (from ipython>=6.1.0->ipywidgets) (0.7.5)\n",
      "Requirement already satisfied: colorama in d:\\users\\amit\\anaconda3\\envs\\datasci-env-py38\\lib\\site-packages (from ipython>=6.1.0->ipywidgets) (0.4.4)\n",
      "Requirement already satisfied: prompt-toolkit!=3.0.0,!=3.0.1,<3.1.0,>=2.0.0 in d:\\users\\amit\\anaconda3\\envs\\datasci-env-py38\\lib\\site-packages (from ipython>=6.1.0->ipywidgets) (3.0.24)\n",
      "Requirement already satisfied: parso<0.9.0,>=0.8.0 in d:\\users\\amit\\anaconda3\\envs\\datasci-env-py38\\lib\\site-packages (from jedi>=0.16->ipython>=6.1.0->ipywidgets) (0.8.3)\n",
      "Requirement already satisfied: python-dateutil>=2.1 in d:\\users\\amit\\anaconda3\\envs\\datasci-env-py38\\lib\\site-packages (from jupyter-client<8.0->ipykernel>=4.5.1->ipywidgets) (2.8.2)\n",
      "Requirement already satisfied: jupyter-core>=4.6.0 in d:\\users\\amit\\anaconda3\\envs\\datasci-env-py38\\lib\\site-packages (from jupyter-client<8.0->ipykernel>=4.5.1->ipywidgets) (5.1.0)\n",
      "Requirement already satisfied: pyzmq>=13 in d:\\users\\amit\\anaconda3\\envs\\datasci-env-py38\\lib\\site-packages (from jupyter-client<8.0->ipykernel>=4.5.1->ipywidgets) (22.3.0)\n",
      "Requirement already satisfied: entrypoints in d:\\users\\amit\\anaconda3\\envs\\datasci-env-py38\\lib\\site-packages (from jupyter-client<8.0->ipykernel>=4.5.1->ipywidgets) (0.3)\n",
      "Requirement already satisfied: wcwidth in d:\\users\\amit\\anaconda3\\envs\\datasci-env-py38\\lib\\site-packages (from prompt-toolkit!=3.0.0,!=3.0.1,<3.1.0,>=2.0.0->ipython>=6.1.0->ipywidgets) (0.2.5)\n",
      "Requirement already satisfied: mypy-extensions>=0.4.3 in d:\\users\\amit\\anaconda3\\envs\\datasci-env-py38\\lib\\site-packages (from black->ipython>=6.1.0->ipywidgets) (0.4.3)\n",
      "Requirement already satisfied: tomli<2.0.0,>=0.2.6 in d:\\users\\amit\\anaconda3\\envs\\datasci-env-py38\\lib\\site-packages (from black->ipython>=6.1.0->ipywidgets) (1.2.3)\n",
      "Requirement already satisfied: typing-extensions>=3.10.0.0 in d:\\users\\amit\\anaconda3\\envs\\datasci-env-py38\\lib\\site-packages (from black->ipython>=6.1.0->ipywidgets) (4.4.0)\n",
      "Requirement already satisfied: pathspec<1,>=0.9.0 in d:\\users\\amit\\anaconda3\\envs\\datasci-env-py38\\lib\\site-packages (from black->ipython>=6.1.0->ipywidgets) (0.9.0)\n",
      "Requirement already satisfied: click>=7.1.2 in d:\\users\\amit\\anaconda3\\envs\\datasci-env-py38\\lib\\site-packages (from black->ipython>=6.1.0->ipywidgets) (8.0.3)\n",
      "Requirement already satisfied: platformdirs>=2 in d:\\users\\amit\\anaconda3\\envs\\datasci-env-py38\\lib\\site-packages (from black->ipython>=6.1.0->ipywidgets) (2.6.0)\n",
      "Requirement already satisfied: executing in d:\\users\\amit\\anaconda3\\envs\\datasci-env-py38\\lib\\site-packages (from stack-data->ipython>=6.1.0->ipywidgets) (0.8.2)\n",
      "Requirement already satisfied: pure-eval in d:\\users\\amit\\anaconda3\\envs\\datasci-env-py38\\lib\\site-packages (from stack-data->ipython>=6.1.0->ipywidgets) (0.2.1)\n",
      "Requirement already satisfied: asttokens in d:\\users\\amit\\anaconda3\\envs\\datasci-env-py38\\lib\\site-packages (from stack-data->ipython>=6.1.0->ipywidgets) (2.0.5)\n",
      "Requirement already satisfied: pywin32>=1.0 in d:\\users\\amit\\anaconda3\\envs\\datasci-env-py38\\lib\\site-packages (from jupyter-core>=4.6.0->jupyter-client<8.0->ipykernel>=4.5.1->ipywidgets) (303)\n",
      "Requirement already satisfied: six>=1.5 in d:\\users\\amit\\anaconda3\\envs\\datasci-env-py38\\lib\\site-packages (from python-dateutil>=2.1->jupyter-client<8.0->ipykernel>=4.5.1->ipywidgets) (1.16.0)\n"
     ]
    },
    {
     "name": "stderr",
     "output_type": "stream",
     "text": [
      "Enabling notebook extension jupyter-js-widgets/extension...\n",
      "      - Validating: ok\n",
      "Enabling: voila\n",
      "- Writing config: D:\\users\\amit\\anaconda3\\envs\\datasci-env-py38\\etc\\jupyter\n",
      "    - Validating...\n",
      "      voila 0.4.0 ok\n"
     ]
    }
   ],
   "source": [
    "# !pip install voila --upgrade\n",
    "# !pip install ipywidgets --upgrade\n",
    "# !jupyter nbextension enable --py widgetsnbextension\n",
    "# !jupyter serverextension enable --sys-prefix voila"
   ]
  },
  {
   "cell_type": "code",
   "execution_count": 1,
   "id": "b3d048ac",
   "metadata": {},
   "outputs": [],
   "source": [
    "from fastai.vision.all import *\n",
    "from fastai.vision.widgets import *\n",
    "import io"
   ]
  },
  {
   "cell_type": "code",
   "execution_count": 2,
   "id": "ebbf39f6",
   "metadata": {},
   "outputs": [
    {
     "data": {
      "application/vnd.jupyter.widget-view+json": {
       "model_id": "cd6b63905dc0492e8998fd9635f716d9",
       "version_major": 2,
       "version_minor": 0
      },
      "text/plain": [
       "VBox(children=(Label(value='Select your bear!'), FileUpload(value=(), description='Upload'), Button(descriptio…"
      ]
     },
     "metadata": {},
     "output_type": "display_data"
    },
    {
     "data": {
      "text/html": [
       "\n",
       "<style>\n",
       "    /* Turns off some styling */\n",
       "    progress {\n",
       "        /* gets rid of default border in Firefox and Opera. */\n",
       "        border: none;\n",
       "        /* Needs to be in here for Safari polyfill so background images work as expected. */\n",
       "        background-size: auto;\n",
       "    }\n",
       "    progress:not([value]), progress:not([value])::-webkit-progress-bar {\n",
       "        background: repeating-linear-gradient(45deg, #7e7e7e, #7e7e7e 10px, #5c5c5c 10px, #5c5c5c 20px);\n",
       "    }\n",
       "    .progress-bar-interrupted, .progress-bar-interrupted::-webkit-progress-bar {\n",
       "        background: #F44336;\n",
       "    }\n",
       "</style>\n"
      ],
      "text/plain": [
       "<IPython.core.display.HTML object>"
      ]
     },
     "metadata": {},
     "output_type": "display_data"
    },
    {
     "data": {
      "text/html": [],
      "text/plain": [
       "<IPython.core.display.HTML object>"
      ]
     },
     "metadata": {},
     "output_type": "display_data"
    }
   ],
   "source": [
    "path = Path()\n",
    "learn_inf = load_learner(path/'export.pkl', cpu = True)\n",
    "\n",
    "btn_upload = widgets.FileUpload()\n",
    "out_pl = widgets.Output()\n",
    "btn_run = widgets.Button(description=\"Classify!\")\n",
    "lbl_pred = widgets.Label()\n",
    "lbl_pred.value = f\"Prediction: None; Probability: None\"\n",
    "\n",
    "def on_click_classify(change):\n",
    "    img = PILImage.create(io.BytesIO(btn_upload.value[-1].content.tobytes()))\n",
    "    out_pl.clear_output()\n",
    "    with out_pl: \n",
    "        display(img.to_thumb(224, 224))\n",
    "    \n",
    "    #Predict\n",
    "    pred, pred_idx, probs = learn_inf.predict(img)\n",
    "    \n",
    "    lbl_pred.value = f\"Prediction: {pred}; Probability: {probs[pred_idx]}\"\n",
    "\n",
    "btn_run.on_click(on_click_classify)\n",
    "display(VBox([widgets.Label('Select your bear!'), \n",
    "      btn_upload, btn_run, out_pl, lbl_pred]))"
   ]
  }
 ],
 "metadata": {
  "kernelspec": {
   "display_name": "Python 3 (ipykernel)",
   "language": "python",
   "name": "python3"
  },
  "language_info": {
   "codemirror_mode": {
    "name": "ipython",
    "version": 3
   },
   "file_extension": ".py",
   "mimetype": "text/x-python",
   "name": "python",
   "nbconvert_exporter": "python",
   "pygments_lexer": "ipython3",
   "version": "3.8.12"
  }
 },
 "nbformat": 4,
 "nbformat_minor": 5
}
