{
  "nbformat": 4,
  "nbformat_minor": 0,
  "metadata": {
    "colab": {
      "provenance": [],
      "authorship_tag": "ABX9TyNJqdWyMik0RvDchsxypJIi",
      "include_colab_link": true
    },
    "kernelspec": {
      "name": "python3",
      "display_name": "Python 3"
    },
    "language_info": {
      "name": "python"
    },
    "accelerator": "GPU",
    "gpuClass": "standard"
  },
  "cells": [
    {
      "cell_type": "markdown",
      "metadata": {
        "id": "view-in-github",
        "colab_type": "text"
      },
      "source": [
        "<a href=\"https://colab.research.google.com/github/amitdamri/FastAI-Repo/blob/main/Neural_Network_Pytorch_MNIST.ipynb\" target=\"_parent\"><img src=\"https://colab.research.google.com/assets/colab-badge.svg\" alt=\"Open In Colab\"/></a>"
      ]
    },
    {
      "cell_type": "markdown",
      "source": [
        "# Simple"
      ],
      "metadata": {
        "id": "YmPZpebz7L1B"
      }
    },
    {
      "cell_type": "code",
      "source": [
        "!pip install -Uqq fastbook"
      ],
      "metadata": {
        "colab": {
          "base_uri": "https://localhost:8080/"
        },
        "id": "wPAfyh3rqEF2",
        "outputId": "9491ef53-8a04-4541-ec17-bb27ad9c786b"
      },
      "execution_count": 2,
      "outputs": [
        {
          "output_type": "stream",
          "name": "stdout",
          "text": [
            "\u001b[2K     \u001b[90m━━━━━━━━━━━━━━━━━━━━━━━━━━━━━━━━━━━━━━\u001b[0m \u001b[32m719.8/719.8 KB\u001b[0m \u001b[31m25.8 MB/s\u001b[0m eta \u001b[36m0:00:00\u001b[0m\n",
            "\u001b[2K     \u001b[90m━━━━━━━━━━━━━━━━━━━━━━━━━━━━━━━━━━━━━━\u001b[0m \u001b[32m452.9/452.9 KB\u001b[0m \u001b[31m49.1 MB/s\u001b[0m eta \u001b[36m0:00:00\u001b[0m\n",
            "\u001b[2K     \u001b[90m━━━━━━━━━━━━━━━━━━━━━━━━━━━━━━━━━━━━━━━━\u001b[0m \u001b[32m5.8/5.8 MB\u001b[0m \u001b[31m90.0 MB/s\u001b[0m eta \u001b[36m0:00:00\u001b[0m\n",
            "\u001b[2K     \u001b[90m━━━━━━━━━━━━━━━━━━━━━━━━━━━━━━━━━━━━━━━━\u001b[0m \u001b[32m1.3/1.3 MB\u001b[0m \u001b[31m81.8 MB/s\u001b[0m eta \u001b[36m0:00:00\u001b[0m\n",
            "\u001b[2K     \u001b[90m━━━━━━━━━━━━━━━━━━━━━━━━━━━━━━━━━━━━━━\u001b[0m \u001b[32m213.0/213.0 KB\u001b[0m \u001b[31m26.0 MB/s\u001b[0m eta \u001b[36m0:00:00\u001b[0m\n",
            "\u001b[2K     \u001b[90m━━━━━━━━━━━━━━━━━━━━━━━━━━━━━━━━━━━━━━\u001b[0m \u001b[32m182.4/182.4 KB\u001b[0m \u001b[31m23.5 MB/s\u001b[0m eta \u001b[36m0:00:00\u001b[0m\n",
            "\u001b[2K     \u001b[90m━━━━━━━━━━━━━━━━━━━━━━━━━━━━━━━━━━━━━━━\u001b[0m \u001b[32m132.0/132.0 KB\u001b[0m \u001b[31m9.8 MB/s\u001b[0m eta \u001b[36m0:00:00\u001b[0m\n",
            "\u001b[2K     \u001b[90m━━━━━━━━━━━━━━━━━━━━━━━━━━━━━━━━━━━━━━━━\u001b[0m \u001b[32m7.6/7.6 MB\u001b[0m \u001b[31m43.7 MB/s\u001b[0m eta \u001b[36m0:00:00\u001b[0m\n",
            "\u001b[2K     \u001b[90m━━━━━━━━━━━━━━━━━━━━━━━━━━━━━━━━━━━━━━━━\u001b[0m \u001b[32m1.6/1.6 MB\u001b[0m \u001b[31m60.2 MB/s\u001b[0m eta \u001b[36m0:00:00\u001b[0m\n",
            "\u001b[2K     \u001b[90m━━━━━━━━━━━━━━━━━━━━━━━━━━━━━━━━━━━━━━\u001b[0m \u001b[32m140.6/140.6 KB\u001b[0m \u001b[31m20.1 MB/s\u001b[0m eta \u001b[36m0:00:00\u001b[0m\n",
            "\u001b[?25h"
          ]
        }
      ]
    },
    {
      "cell_type": "code",
      "source": [
        "import torch\n",
        "import numpy as np\n",
        "import fastbook\n",
        "from fastai.vision.all import *\n",
        "from fastbook import *\n",
        "matplotlib.rc('image', cmap='Greys')"
      ],
      "metadata": {
        "id": "1xV5disRqBGh"
      },
      "execution_count": 3,
      "outputs": []
    },
    {
      "cell_type": "code",
      "source": [
        "def f_func(x, params):\n",
        "  a, b, c = params\n",
        "  pred = a * (x ** 2) + (b*x) + c\n",
        "  return pred"
      ],
      "metadata": {
        "id": "gJdqRbONrwjb"
      },
      "execution_count": 119,
      "outputs": []
    },
    {
      "cell_type": "code",
      "source": [
        "def init_params(v):\n",
        "  p = torch.randn(v).requires_grad_()\n",
        "  return p"
      ],
      "metadata": {
        "id": "f1tSoNbAsRnu"
      },
      "execution_count": 127,
      "outputs": []
    },
    {
      "cell_type": "code",
      "source": [
        "def mse(target, pred):\n",
        "  return ((pred - target) ** 2).mean()"
      ],
      "metadata": {
        "id": "r0PhQUE9y5b_"
      },
      "execution_count": 98,
      "outputs": []
    },
    {
      "cell_type": "code",
      "source": [
        "def show_preds(x, y, preds, ax = None):\n",
        "  if ax is None: ax = plt.subplots()[1]\n",
        "  ax.scatter(x, y)\n",
        "  ax.scatter(x, to_np(preds), c='red')\n",
        "  ax.set_ylim(-50, 100)"
      ],
      "metadata": {
        "id": "0MAQyKQCygF5"
      },
      "execution_count": 106,
      "outputs": []
    },
    {
      "cell_type": "code",
      "source": [
        "def demo_function(x):\n",
        "  return 0.75 * (x - 9.5) ** 2  + 1"
      ],
      "metadata": {
        "id": "QpE_Z5_XzMNK"
      },
      "execution_count": 90,
      "outputs": []
    },
    {
      "cell_type": "code",
      "source": [
        "def noise_function(x):\n",
        "  return torch.randn(len(x)) * 3"
      ],
      "metadata": {
        "id": "et5zTrTZzVPW"
      },
      "execution_count": 91,
      "outputs": []
    },
    {
      "cell_type": "code",
      "source": [
        "params = init_params(3)\n",
        "x = torch.arange(20).float()\n",
        "y = demo_function(x) + noise_function(x)\n",
        "preds = f_func(x, params)\n",
        "show_preds(x, y, preds)"
      ],
      "metadata": {
        "colab": {
          "base_uri": "https://localhost:8080/",
          "height": 273
        },
        "id": "_WbW-91-y4r6",
        "outputId": "a9522d62-2d1a-49a9-8403-121a80bccbf5"
      },
      "execution_count": 175,
      "outputs": [
        {
          "output_type": "display_data",
          "data": {
            "text/plain": [
              "<Figure size 432x288 with 1 Axes>"
            ],
            "image/png": "[encoded data removed]"
          },
          "metadata": {
            "needs_background": "light"
          }
        }
      ]
    },
    {
      "cell_type": "code",
      "source": [
        "loss = mse(y ,preds)\n",
        "loss"
      ],
      "metadata": {
        "colab": {
          "base_uri": "https://localhost:8080/"
        },
        "id": "-ncLHnp90j0H",
        "outputId": "9eafad31-f96b-45c2-90ce-8320c95081b4"
      },
      "execution_count": 163,
      "outputs": [
        {
          "output_type": "execute_result",
          "data": {
            "text/plain": [
              "tensor(2025.4893, grad_fn=<MeanBackward0>)"
            ]
          },
          "metadata": {},
          "execution_count": 163
        }
      ]
    },
    {
      "cell_type": "code",
      "source": [
        "# sanity check\n",
        "s = 0\n",
        "for i, t in enumerate(x):\n",
        "  pred = params[0] * (t ** 2) + (params[1] * t) + params[2]\n",
        "  actual = y[i]\n",
        "  s += (actual - pred) ** 2\n",
        "loss = s / len(time)\n",
        "print(loss)"
      ],
      "metadata": {
        "colab": {
          "base_uri": "https://localhost:8080/"
        },
        "id": "ilom8AbQvxiN",
        "outputId": "e50d486a-1e9b-4474-b4ac-7f67ddd47499"
      },
      "execution_count": 164,
      "outputs": [
        {
          "output_type": "stream",
          "name": "stdout",
          "text": [
            "tensor(2025.4893, grad_fn=<DivBackward0>)\n"
          ]
        }
      ]
    },
    {
      "cell_type": "code",
      "source": [
        "loss.backward()"
      ],
      "metadata": {
        "id": "j-8ASZqY1MUw"
      },
      "execution_count": 165,
      "outputs": []
    },
    {
      "cell_type": "code",
      "source": [
        "lr = 1e-5\n",
        "params.data -= params.grad * lr\n",
        "params.grad = None"
      ],
      "metadata": {
        "id": "XZbOrA9I4Xlg"
      },
      "execution_count": 166,
      "outputs": []
    },
    {
      "cell_type": "code",
      "source": [
        "preds = f_func(x, params)\n",
        "mse(preds, y)"
      ],
      "metadata": {
        "colab": {
          "base_uri": "https://localhost:8080/"
        },
        "id": "6-1MhFQb4zUG",
        "outputId": "70c44add-62f0-4ddd-c306-ab8221a843a8"
      },
      "execution_count": 167,
      "outputs": [
        {
          "output_type": "execute_result",
          "data": {
            "text/plain": [
              "tensor(949.0934, grad_fn=<MeanBackward0>)"
            ]
          },
          "metadata": {},
          "execution_count": 167
        }
      ]
    },
    {
      "cell_type": "code",
      "source": [
        "show_preds(x, y, preds)"
      ],
      "metadata": {
        "colab": {
          "base_uri": "https://localhost:8080/",
          "height": 273
        },
        "id": "aubfPNDi474-",
        "outputId": "cbc74c83-cf95-4fa1-9c06-a873692414dd"
      },
      "execution_count": 168,
      "outputs": [
        {
          "output_type": "display_data",
          "data": {
            "text/plain": [
              "<Figure size 432x288 with 1 Axes>"
            ],
            "image/png": "[encoded data removed]"
          },
          "metadata": {
            "needs_background": "light"
          }
        }
      ]
    },
    {
      "cell_type": "code",
      "source": [
        "def apply_step(params, lr, prn=True):\n",
        "  preds = f_func(x, params)\n",
        "  loss = mse(preds, y)\n",
        "  loss.backward()\n",
        "  params.data -= params.grad * lr\n",
        "  params.grad = None\n",
        "  if prn: print(loss.item())\n",
        "  return preds"
      ],
      "metadata": {
        "id": "xoT8HhtB4_X8"
      },
      "execution_count": 171,
      "outputs": []
    },
    {
      "cell_type": "code",
      "source": [
        "for i in range(10) : apply_step(params, lr)"
      ],
      "metadata": {
        "colab": {
          "base_uri": "https://localhost:8080/"
        },
        "id": "JAriouHC5kNQ",
        "outputId": "4ddf6c99-4591-4f10-b45e-16dec5140609"
      },
      "execution_count": 172,
      "outputs": [
        {
          "output_type": "stream",
          "name": "stdout",
          "text": [
            "949.0934448242188\n",
            "745.3898315429688\n",
            "706.8262939453125\n",
            "699.5122680664062\n",
            "698.111572265625\n",
            "697.8297729492188\n",
            "697.7598266601562\n",
            "697.7301025390625\n",
            "697.7077026367188\n",
            "697.6868896484375\n"
          ]
        }
      ]
    },
    {
      "cell_type": "code",
      "source": [
        "_, axs = plt.subplots(1, 4, figsize= (12,3))\n",
        "for ax in axs:\n",
        "  show_preds(x, y, apply_step(params, lr, prn= False), ax)\n",
        "  plt.tight_layout()"
      ],
      "metadata": {
        "colab": {
          "base_uri": "https://localhost:8080/",
          "height": 221
        },
        "id": "XzqdNNAn5nI1",
        "outputId": "7614d3ba-9ccc-486f-af0e-18bcd596dd16"
      },
      "execution_count": 178,
      "outputs": [
        {
          "output_type": "display_data",
          "data": {
            "text/plain": [
              "<Figure size 864x216 with 4 Axes>"
            ],
            "image/png": "[encoded data removed]"
          },
          "metadata": {
            "needs_background": "light"
          }
        }
      ]
    },
    {
      "cell_type": "code",
      "source": [],
      "metadata": {
        "id": "HICtlRzd6vU8"
      },
      "execution_count": null,
      "outputs": []
    },
    {
      "cell_type": "markdown",
      "source": [
        "# MNIST"
      ],
      "metadata": {
        "id": "2lZhOdTC7OtW"
      }
    },
    {
      "cell_type": "code",
      "source": [
        "path = untar_data(URLs.MNIST)\n",
        "(path/'training').ls()"
      ],
      "metadata": {
        "colab": {
          "base_uri": "https://localhost:8080/",
          "height": 0
        },
        "id": "xMJVQIeI7QOP",
        "outputId": "e6031cfd-03ec-4823-931d-d8054c7b964b"
      },
      "execution_count": 4,
      "outputs": [
        {
          "output_type": "display_data",
          "data": {
            "text/plain": [
              "<IPython.core.display.HTML object>"
            ],
            "text/html": [
              "\n",
              "<style>\n",
              "    /* Turns off some styling */\n",
              "    progress {\n",
              "        /* gets rid of default border in Firefox and Opera. */\n",
              "        border: none;\n",
              "        /* Needs to be in here for Safari polyfill so background images work as expected. */\n",
              "        background-size: auto;\n",
              "    }\n",
              "    progress:not([value]), progress:not([value])::-webkit-progress-bar {\n",
              "        background: repeating-linear-gradient(45deg, #7e7e7e, #7e7e7e 10px, #5c5c5c 10px, #5c5c5c 20px);\n",
              "    }\n",
              "    .progress-bar-interrupted, .progress-bar-interrupted::-webkit-progress-bar {\n",
              "        background: #F44336;\n",
              "    }\n",
              "</style>\n"
            ]
          },
          "metadata": {}
        },
        {
          "output_type": "display_data",
          "data": {
            "text/plain": [
              "<IPython.core.display.HTML object>"
            ],
            "text/html": [
              "\n",
              "    <div>\n",
              "      <progress value='15687680' class='' max='15683414' style='width:300px; height:20px; vertical-align: middle;'></progress>\n",
              "      100.03% [15687680/15683414 00:01&lt;00:00]\n",
              "    </div>\n",
              "    "
            ]
          },
          "metadata": {}
        },
        {
          "output_type": "execute_result",
          "data": {
            "text/plain": [
              "(#10) [Path('/root/.fastai/data/mnist_png/training/3'),Path('/root/.fastai/data/mnist_png/training/4'),Path('/root/.fastai/data/mnist_png/training/1'),Path('/root/.fastai/data/mnist_png/training/6'),Path('/root/.fastai/data/mnist_png/training/9'),Path('/root/.fastai/data/mnist_png/training/7'),Path('/root/.fastai/data/mnist_png/training/8'),Path('/root/.fastai/data/mnist_png/training/2'),Path('/root/.fastai/data/mnist_png/training/5'),Path('/root/.fastai/data/mnist_png/training/0')]"
            ]
          },
          "metadata": {},
          "execution_count": 4
        }
      ]
    },
    {
      "cell_type": "code",
      "source": [
        "img = Image.open((path/'training/2').ls()[0])\n",
        "df = pd.DataFrame(tensor(img)[4:20, 5:20])\n",
        "df.style.set_properties(**{'font_size' : '6pt'}).background_gradient('Greys')"
      ],
      "metadata": {
        "colab": {
          "base_uri": "https://localhost:8080/",
          "height": 551
        },
        "id": "dQAMOm4L9u63",
        "outputId": "c2d6dc41-a3ab-496c-d6f7-14a888d60409"
      },
      "execution_count": 4,
      "outputs": [
        {
          "output_type": "execute_result",
          "data": {
            "text/plain": [
              "<pandas.io.formats.style.Styler at 0x7fc8bd195a60>"
            ],
            "text/html": [
              "<style type=\"text/css\">\n",
              "#T_0315d_row0_col0, #T_0315d_row0_col4, #T_0315d_row0_col5, #T_0315d_row0_col6, #T_0315d_row0_col13, #T_0315d_row0_col14, #T_0315d_row1_col0, #T_0315d_row1_col1, #T_0315d_row1_col2, #T_0315d_row1_col3, #T_0315d_row1_col4, #T_0315d_row1_col5, #T_0315d_row1_col6, #T_0315d_row1_col7, #T_0315d_row1_col8, #T_0315d_row1_col14, #T_0315d_row2_col0, #T_0315d_row2_col1, #T_0315d_row2_col2, #T_0315d_row2_col3, #T_0315d_row2_col4, #T_0315d_row2_col5, #T_0315d_row2_col6, #T_0315d_row2_col7, #T_0315d_row2_col8, #T_0315d_row2_col9, #T_0315d_row2_col10, #T_0315d_row2_col11, #T_0315d_row3_col0, #T_0315d_row3_col1, #T_0315d_row3_col2, #T_0315d_row3_col3, #T_0315d_row3_col4, #T_0315d_row3_col5, #T_0315d_row3_col6, #T_0315d_row3_col7, #T_0315d_row3_col8, #T_0315d_row3_col9, #T_0315d_row3_col10, #T_0315d_row3_col11, #T_0315d_row4_col0, #T_0315d_row4_col1, #T_0315d_row4_col2, #T_0315d_row4_col3, #T_0315d_row4_col4, #T_0315d_row4_col5, #T_0315d_row4_col6, #T_0315d_row4_col7, #T_0315d_row4_col8, #T_0315d_row4_col9, #T_0315d_row4_col10, #T_0315d_row4_col11, #T_0315d_row4_col12, #T_0315d_row5_col0, #T_0315d_row5_col1, #T_0315d_row5_col2, #T_0315d_row5_col3, #T_0315d_row5_col4, #T_0315d_row5_col5, #T_0315d_row5_col6, #T_0315d_row5_col7, #T_0315d_row5_col8, #T_0315d_row5_col9, #T_0315d_row5_col10, #T_0315d_row5_col11, #T_0315d_row5_col12, #T_0315d_row5_col13, #T_0315d_row6_col0, #T_0315d_row6_col1, #T_0315d_row6_col2, #T_0315d_row6_col3, #T_0315d_row6_col4, #T_0315d_row6_col5, #T_0315d_row6_col6, #T_0315d_row6_col7, #T_0315d_row6_col8, #T_0315d_row6_col9, #T_0315d_row6_col10, #T_0315d_row6_col11, #T_0315d_row6_col12, #T_0315d_row6_col13, #T_0315d_row7_col0, #T_0315d_row7_col1, #T_0315d_row7_col2, #T_0315d_row7_col3, #T_0315d_row7_col4, #T_0315d_row7_col5, #T_0315d_row7_col6, #T_0315d_row7_col7, #T_0315d_row7_col8, #T_0315d_row7_col9, #T_0315d_row7_col10, #T_0315d_row7_col11, #T_0315d_row7_col12, #T_0315d_row7_col13, #T_0315d_row8_col0, #T_0315d_row8_col1, #T_0315d_row8_col2, #T_0315d_row8_col3, #T_0315d_row8_col4, #T_0315d_row8_col5, #T_0315d_row8_col6, #T_0315d_row8_col7, #T_0315d_row8_col8, #T_0315d_row8_col9, #T_0315d_row8_col10, #T_0315d_row8_col11, #T_0315d_row8_col12, #T_0315d_row8_col13, #T_0315d_row9_col0, #T_0315d_row9_col1, #T_0315d_row9_col2, #T_0315d_row9_col3, #T_0315d_row9_col4, #T_0315d_row9_col5, #T_0315d_row9_col6, #T_0315d_row9_col7, #T_0315d_row9_col8, #T_0315d_row9_col9, #T_0315d_row9_col10, #T_0315d_row9_col11, #T_0315d_row9_col12, #T_0315d_row10_col0, #T_0315d_row10_col1, #T_0315d_row10_col2, #T_0315d_row10_col3, #T_0315d_row10_col4, #T_0315d_row10_col5, #T_0315d_row10_col6, #T_0315d_row10_col7, #T_0315d_row10_col8, #T_0315d_row10_col9, #T_0315d_row10_col10, #T_0315d_row10_col11, #T_0315d_row10_col12, #T_0315d_row11_col0, #T_0315d_row11_col1, #T_0315d_row11_col2, #T_0315d_row11_col3, #T_0315d_row11_col4, #T_0315d_row11_col5, #T_0315d_row11_col6, #T_0315d_row11_col7, #T_0315d_row11_col8, #T_0315d_row11_col9, #T_0315d_row11_col10, #T_0315d_row11_col11, #T_0315d_row12_col0, #T_0315d_row12_col1, #T_0315d_row12_col2, #T_0315d_row12_col3, #T_0315d_row12_col4, #T_0315d_row12_col5, #T_0315d_row12_col6, #T_0315d_row12_col7, #T_0315d_row12_col8, #T_0315d_row12_col9, #T_0315d_row12_col10, #T_0315d_row12_col11, #T_0315d_row13_col0, #T_0315d_row13_col14, #T_0315d_row14_col0, #T_0315d_row15_col0, #T_0315d_row15_col3, #T_0315d_row15_col4, #T_0315d_row15_col5, #T_0315d_row15_col6, #T_0315d_row15_col7, #T_0315d_row15_col8 {\n",
              "  font_size: 6pt;\n",
              "  background-color: #ffffff;\n",
              "  color: #000000;\n",
              "}\n",
              "#T_0315d_row0_col1 {\n",
              "  font_size: 6pt;\n",
              "  background-color: #b5b5b5;\n",
              "  color: #000000;\n",
              "}\n",
              "#T_0315d_row0_col2 {\n",
              "  font_size: 6pt;\n",
              "  background-color: #1e1e1e;\n",
              "  color: #f1f1f1;\n",
              "}\n",
              "#T_0315d_row0_col3 {\n",
              "  font_size: 6pt;\n",
              "  background-color: #f1f1f1;\n",
              "  color: #000000;\n",
              "}\n",
              "#T_0315d_row0_col7, #T_0315d_row14_col14 {\n",
              "  font_size: 6pt;\n",
              "  background-color: #f8f8f8;\n",
              "  color: #000000;\n",
              "}\n",
              "#T_0315d_row0_col8, #T_0315d_row13_col13 {\n",
              "  font_size: 6pt;\n",
              "  background-color: #e1e1e1;\n",
              "  color: #000000;\n",
              "}\n",
              "#T_0315d_row0_col9 {\n",
              "  font_size: 6pt;\n",
              "  background-color: #868686;\n",
              "  color: #f1f1f1;\n",
              "}\n",
              "#T_0315d_row0_col10, #T_0315d_row9_col14, #T_0315d_row13_col2, #T_0315d_row13_col3, #T_0315d_row13_col4, #T_0315d_row13_col5, #T_0315d_row13_col6, #T_0315d_row13_col12, #T_0315d_row14_col7, #T_0315d_row14_col8, #T_0315d_row14_col9, #T_0315d_row14_col11, #T_0315d_row15_col1, #T_0315d_row15_col10, #T_0315d_row15_col13 {\n",
              "  font_size: 6pt;\n",
              "  background-color: #000000;\n",
              "  color: #f1f1f1;\n",
              "}\n",
              "#T_0315d_row0_col11 {\n",
              "  font_size: 6pt;\n",
              "  background-color: #414141;\n",
              "  color: #f1f1f1;\n",
              "}\n",
              "#T_0315d_row0_col12, #T_0315d_row15_col2 {\n",
              "  font_size: 6pt;\n",
              "  background-color: #f0f0f0;\n",
              "  color: #000000;\n",
              "}\n",
              "#T_0315d_row1_col9 {\n",
              "  font_size: 6pt;\n",
              "  background-color: #fcfcfc;\n",
              "  color: #000000;\n",
              "}\n",
              "#T_0315d_row1_col10 {\n",
              "  font_size: 6pt;\n",
              "  background-color: #dfdfdf;\n",
              "  color: #000000;\n",
              "}\n",
              "#T_0315d_row1_col11 {\n",
              "  font_size: 6pt;\n",
              "  background-color: #626262;\n",
              "  color: #f1f1f1;\n",
              "}\n",
              "#T_0315d_row1_col12 {\n",
              "  font_size: 6pt;\n",
              "  background-color: #0c0c0c;\n",
              "  color: #f1f1f1;\n",
              "}\n",
              "#T_0315d_row1_col13 {\n",
              "  font_size: 6pt;\n",
              "  background-color: #e4e4e4;\n",
              "  color: #000000;\n",
              "}\n",
              "#T_0315d_row2_col12 {\n",
              "  font_size: 6pt;\n",
              "  background-color: #2f2f2f;\n",
              "  color: #f1f1f1;\n",
              "}\n",
              "#T_0315d_row2_col13 {\n",
              "  font_size: 6pt;\n",
              "  background-color: #2e2e2e;\n",
              "  color: #f1f1f1;\n",
              "}\n",
              "#T_0315d_row2_col14, #T_0315d_row3_col12, #T_0315d_row4_col13 {\n",
              "  font_size: 6pt;\n",
              "  background-color: #f3f3f3;\n",
              "  color: #000000;\n",
              "}\n",
              "#T_0315d_row3_col13 {\n",
              "  font_size: 6pt;\n",
              "  background-color: #3d3d3d;\n",
              "  color: #f1f1f1;\n",
              "}\n",
              "#T_0315d_row3_col14 {\n",
              "  font_size: 6pt;\n",
              "  background-color: #7c7c7c;\n",
              "  color: #f1f1f1;\n",
              "}\n",
              "#T_0315d_row4_col14 {\n",
              "  font_size: 6pt;\n",
              "  background-color: #080808;\n",
              "  color: #f1f1f1;\n",
              "}\n",
              "#T_0315d_row5_col14, #T_0315d_row6_col14, #T_0315d_row7_col14, #T_0315d_row8_col14, #T_0315d_row15_col11 {\n",
              "  font_size: 6pt;\n",
              "  background-color: #686868;\n",
              "  color: #f1f1f1;\n",
              "}\n",
              "#T_0315d_row9_col13 {\n",
              "  font_size: 6pt;\n",
              "  background-color: #fafafa;\n",
              "  color: #000000;\n",
              "}\n",
              "#T_0315d_row10_col13 {\n",
              "  font_size: 6pt;\n",
              "  background-color: #858585;\n",
              "  color: #f1f1f1;\n",
              "}\n",
              "#T_0315d_row10_col14 {\n",
              "  font_size: 6pt;\n",
              "  background-color: #0e0e0e;\n",
              "  color: #f1f1f1;\n",
              "}\n",
              "#T_0315d_row11_col12, #T_0315d_row14_col13 {\n",
              "  font_size: 6pt;\n",
              "  background-color: #f6f6f6;\n",
              "  color: #000000;\n",
              "}\n",
              "#T_0315d_row11_col13 {\n",
              "  font_size: 6pt;\n",
              "  background-color: #272727;\n",
              "  color: #f1f1f1;\n",
              "}\n",
              "#T_0315d_row11_col14 {\n",
              "  font_size: 6pt;\n",
              "  background-color: #888888;\n",
              "  color: #f1f1f1;\n",
              "}\n",
              "#T_0315d_row12_col12 {\n",
              "  font_size: 6pt;\n",
              "  background-color: #333333;\n",
              "  color: #f1f1f1;\n",
              "}\n",
              "#T_0315d_row12_col13, #T_0315d_row14_col10 {\n",
              "  font_size: 6pt;\n",
              "  background-color: #292929;\n",
              "  color: #f1f1f1;\n",
              "}\n",
              "#T_0315d_row12_col14 {\n",
              "  font_size: 6pt;\n",
              "  background-color: #f2f2f2;\n",
              "  color: #000000;\n",
              "}\n",
              "#T_0315d_row13_col1 {\n",
              "  font_size: 6pt;\n",
              "  background-color: #aeaeae;\n",
              "  color: #000000;\n",
              "}\n",
              "#T_0315d_row13_col7 {\n",
              "  font_size: 6pt;\n",
              "  background-color: #393939;\n",
              "  color: #f1f1f1;\n",
              "}\n",
              "#T_0315d_row13_col8 {\n",
              "  font_size: 6pt;\n",
              "  background-color: #bfbfbf;\n",
              "  color: #000000;\n",
              "}\n",
              "#T_0315d_row13_col9, #T_0315d_row14_col4 {\n",
              "  font_size: 6pt;\n",
              "  background-color: #e3e3e3;\n",
              "  color: #000000;\n",
              "}\n",
              "#T_0315d_row13_col10 {\n",
              "  font_size: 6pt;\n",
              "  background-color: #f9f9f9;\n",
              "  color: #000000;\n",
              "}\n",
              "#T_0315d_row13_col11, #T_0315d_row14_col3 {\n",
              "  font_size: 6pt;\n",
              "  background-color: #d2d2d2;\n",
              "  color: #000000;\n",
              "}\n",
              "#T_0315d_row14_col1, #T_0315d_row14_col6 {\n",
              "  font_size: 6pt;\n",
              "  background-color: #010101;\n",
              "  color: #f1f1f1;\n",
              "}\n",
              "#T_0315d_row14_col2 {\n",
              "  font_size: 6pt;\n",
              "  background-color: #666666;\n",
              "  color: #f1f1f1;\n",
              "}\n",
              "#T_0315d_row14_col5 {\n",
              "  font_size: 6pt;\n",
              "  background-color: #8a8a8a;\n",
              "  color: #f1f1f1;\n",
              "}\n",
              "#T_0315d_row14_col12 {\n",
              "  font_size: 6pt;\n",
              "  background-color: #464646;\n",
              "  color: #f1f1f1;\n",
              "}\n",
              "#T_0315d_row15_col9 {\n",
              "  font_size: 6pt;\n",
              "  background-color: #717171;\n",
              "  color: #f1f1f1;\n",
              "}\n",
              "#T_0315d_row15_col12 {\n",
              "  font_size: 6pt;\n",
              "  background-color: #484848;\n",
              "  color: #f1f1f1;\n",
              "}\n",
              "#T_0315d_row15_col14 {\n",
              "  font_size: 6pt;\n",
              "  background-color: #1b1b1b;\n",
              "  color: #f1f1f1;\n",
              "}\n",
              "</style>\n",
              "<table id=\"T_0315d_\" class=\"dataframe\">\n",
              "  <thead>\n",
              "    <tr>\n",
              "      <th class=\"blank level0\" >&nbsp;</th>\n",
              "      <th class=\"col_heading level0 col0\" >0</th>\n",
              "      <th class=\"col_heading level0 col1\" >1</th>\n",
              "      <th class=\"col_heading level0 col2\" >2</th>\n",
              "      <th class=\"col_heading level0 col3\" >3</th>\n",
              "      <th class=\"col_heading level0 col4\" >4</th>\n",
              "      <th class=\"col_heading level0 col5\" >5</th>\n",
              "      <th class=\"col_heading level0 col6\" >6</th>\n",
              "      <th class=\"col_heading level0 col7\" >7</th>\n",
              "      <th class=\"col_heading level0 col8\" >8</th>\n",
              "      <th class=\"col_heading level0 col9\" >9</th>\n",
              "      <th class=\"col_heading level0 col10\" >10</th>\n",
              "      <th class=\"col_heading level0 col11\" >11</th>\n",
              "      <th class=\"col_heading level0 col12\" >12</th>\n",
              "      <th class=\"col_heading level0 col13\" >13</th>\n",
              "      <th class=\"col_heading level0 col14\" >14</th>\n",
              "    </tr>\n",
              "  </thead>\n",
              "  <tbody>\n",
              "    <tr>\n",
              "      <th id=\"T_0315d_level0_row0\" class=\"row_heading level0 row0\" >0</th>\n",
              "      <td id=\"T_0315d_row0_col0\" class=\"data row0 col0\" >0</td>\n",
              "      <td id=\"T_0315d_row0_col1\" class=\"data row0 col1\" >102</td>\n",
              "      <td id=\"T_0315d_row0_col2\" class=\"data row0 col2\" >202</td>\n",
              "      <td id=\"T_0315d_row0_col3\" class=\"data row0 col3\" >27</td>\n",
              "      <td id=\"T_0315d_row0_col4\" class=\"data row0 col4\" >0</td>\n",
              "      <td id=\"T_0315d_row0_col5\" class=\"data row0 col5\" >0</td>\n",
              "      <td id=\"T_0315d_row0_col6\" class=\"data row0 col6\" >0</td>\n",
              "      <td id=\"T_0315d_row0_col7\" class=\"data row0 col7\" >10</td>\n",
              "      <td id=\"T_0315d_row0_col8\" class=\"data row0 col8\" >49</td>\n",
              "      <td id=\"T_0315d_row0_col9\" class=\"data row0 col9\" >136</td>\n",
              "      <td id=\"T_0315d_row0_col10\" class=\"data row0 col10\" >254</td>\n",
              "      <td id=\"T_0315d_row0_col11\" class=\"data row0 col11\" >202</td>\n",
              "      <td id=\"T_0315d_row0_col12\" class=\"data row0 col12\" >29</td>\n",
              "      <td id=\"T_0315d_row0_col13\" class=\"data row0 col13\" >0</td>\n",
              "      <td id=\"T_0315d_row0_col14\" class=\"data row0 col14\" >0</td>\n",
              "    </tr>\n",
              "    <tr>\n",
              "      <th id=\"T_0315d_level0_row1\" class=\"row_heading level0 row1\" >1</th>\n",
              "      <td id=\"T_0315d_row1_col0\" class=\"data row1 col0\" >0</td>\n",
              "      <td id=\"T_0315d_row1_col1\" class=\"data row1 col1\" >0</td>\n",
              "      <td id=\"T_0315d_row1_col2\" class=\"data row1 col2\" >0</td>\n",
              "      <td id=\"T_0315d_row1_col3\" class=\"data row1 col3\" >0</td>\n",
              "      <td id=\"T_0315d_row1_col4\" class=\"data row1 col4\" >0</td>\n",
              "      <td id=\"T_0315d_row1_col5\" class=\"data row1 col5\" >0</td>\n",
              "      <td id=\"T_0315d_row1_col6\" class=\"data row1 col6\" >0</td>\n",
              "      <td id=\"T_0315d_row1_col7\" class=\"data row1 col7\" >0</td>\n",
              "      <td id=\"T_0315d_row1_col8\" class=\"data row1 col8\" >0</td>\n",
              "      <td id=\"T_0315d_row1_col9\" class=\"data row1 col9\" >7</td>\n",
              "      <td id=\"T_0315d_row1_col10\" class=\"data row1 col10\" >56</td>\n",
              "      <td id=\"T_0315d_row1_col11\" class=\"data row1 col11\" >175</td>\n",
              "      <td id=\"T_0315d_row1_col12\" class=\"data row1 col12\" >224</td>\n",
              "      <td id=\"T_0315d_row1_col13\" class=\"data row1 col13\" >48</td>\n",
              "      <td id=\"T_0315d_row1_col14\" class=\"data row1 col14\" >0</td>\n",
              "    </tr>\n",
              "    <tr>\n",
              "      <th id=\"T_0315d_level0_row2\" class=\"row_heading level0 row2\" >2</th>\n",
              "      <td id=\"T_0315d_row2_col0\" class=\"data row2 col0\" >0</td>\n",
              "      <td id=\"T_0315d_row2_col1\" class=\"data row2 col1\" >0</td>\n",
              "      <td id=\"T_0315d_row2_col2\" class=\"data row2 col2\" >0</td>\n",
              "      <td id=\"T_0315d_row2_col3\" class=\"data row2 col3\" >0</td>\n",
              "      <td id=\"T_0315d_row2_col4\" class=\"data row2 col4\" >0</td>\n",
              "      <td id=\"T_0315d_row2_col5\" class=\"data row2 col5\" >0</td>\n",
              "      <td id=\"T_0315d_row2_col6\" class=\"data row2 col6\" >0</td>\n",
              "      <td id=\"T_0315d_row2_col7\" class=\"data row2 col7\" >0</td>\n",
              "      <td id=\"T_0315d_row2_col8\" class=\"data row2 col8\" >0</td>\n",
              "      <td id=\"T_0315d_row2_col9\" class=\"data row2 col9\" >0</td>\n",
              "      <td id=\"T_0315d_row2_col10\" class=\"data row2 col10\" >0</td>\n",
              "      <td id=\"T_0315d_row2_col11\" class=\"data row2 col11\" >0</td>\n",
              "      <td id=\"T_0315d_row2_col12\" class=\"data row2 col12\" >198</td>\n",
              "      <td id=\"T_0315d_row2_col13\" class=\"data row2 col13\" >216</td>\n",
              "      <td id=\"T_0315d_row2_col14\" class=\"data row2 col14\" >25</td>\n",
              "    </tr>\n",
              "    <tr>\n",
              "      <th id=\"T_0315d_level0_row3\" class=\"row_heading level0 row3\" >3</th>\n",
              "      <td id=\"T_0315d_row3_col0\" class=\"data row3 col0\" >0</td>\n",
              "      <td id=\"T_0315d_row3_col1\" class=\"data row3 col1\" >0</td>\n",
              "      <td id=\"T_0315d_row3_col2\" class=\"data row3 col2\" >0</td>\n",
              "      <td id=\"T_0315d_row3_col3\" class=\"data row3 col3\" >0</td>\n",
              "      <td id=\"T_0315d_row3_col4\" class=\"data row3 col4\" >0</td>\n",
              "      <td id=\"T_0315d_row3_col5\" class=\"data row3 col5\" >0</td>\n",
              "      <td id=\"T_0315d_row3_col6\" class=\"data row3 col6\" >0</td>\n",
              "      <td id=\"T_0315d_row3_col7\" class=\"data row3 col7\" >0</td>\n",
              "      <td id=\"T_0315d_row3_col8\" class=\"data row3 col8\" >0</td>\n",
              "      <td id=\"T_0315d_row3_col9\" class=\"data row3 col9\" >0</td>\n",
              "      <td id=\"T_0315d_row3_col10\" class=\"data row3 col10\" >0</td>\n",
              "      <td id=\"T_0315d_row3_col11\" class=\"data row3 col11\" >0</td>\n",
              "      <td id=\"T_0315d_row3_col12\" class=\"data row3 col12\" >24</td>\n",
              "      <td id=\"T_0315d_row3_col13\" class=\"data row3 col13\" >205</td>\n",
              "      <td id=\"T_0315d_row3_col14\" class=\"data row3 col14\" >150</td>\n",
              "    </tr>\n",
              "    <tr>\n",
              "      <th id=\"T_0315d_level0_row4\" class=\"row_heading level0 row4\" >4</th>\n",
              "      <td id=\"T_0315d_row4_col0\" class=\"data row4 col0\" >0</td>\n",
              "      <td id=\"T_0315d_row4_col1\" class=\"data row4 col1\" >0</td>\n",
              "      <td id=\"T_0315d_row4_col2\" class=\"data row4 col2\" >0</td>\n",
              "      <td id=\"T_0315d_row4_col3\" class=\"data row4 col3\" >0</td>\n",
              "      <td id=\"T_0315d_row4_col4\" class=\"data row4 col4\" >0</td>\n",
              "      <td id=\"T_0315d_row4_col5\" class=\"data row4 col5\" >0</td>\n",
              "      <td id=\"T_0315d_row4_col6\" class=\"data row4 col6\" >0</td>\n",
              "      <td id=\"T_0315d_row4_col7\" class=\"data row4 col7\" >0</td>\n",
              "      <td id=\"T_0315d_row4_col8\" class=\"data row4 col8\" >0</td>\n",
              "      <td id=\"T_0315d_row4_col9\" class=\"data row4 col9\" >0</td>\n",
              "      <td id=\"T_0315d_row4_col10\" class=\"data row4 col10\" >0</td>\n",
              "      <td id=\"T_0315d_row4_col11\" class=\"data row4 col11\" >0</td>\n",
              "      <td id=\"T_0315d_row4_col12\" class=\"data row4 col12\" >0</td>\n",
              "      <td id=\"T_0315d_row4_col13\" class=\"data row4 col13\" >26</td>\n",
              "      <td id=\"T_0315d_row4_col14\" class=\"data row4 col14\" >247</td>\n",
              "    </tr>\n",
              "    <tr>\n",
              "      <th id=\"T_0315d_level0_row5\" class=\"row_heading level0 row5\" >5</th>\n",
              "      <td id=\"T_0315d_row5_col0\" class=\"data row5 col0\" >0</td>\n",
              "      <td id=\"T_0315d_row5_col1\" class=\"data row5 col1\" >0</td>\n",
              "      <td id=\"T_0315d_row5_col2\" class=\"data row5 col2\" >0</td>\n",
              "      <td id=\"T_0315d_row5_col3\" class=\"data row5 col3\" >0</td>\n",
              "      <td id=\"T_0315d_row5_col4\" class=\"data row5 col4\" >0</td>\n",
              "      <td id=\"T_0315d_row5_col5\" class=\"data row5 col5\" >0</td>\n",
              "      <td id=\"T_0315d_row5_col6\" class=\"data row5 col6\" >0</td>\n",
              "      <td id=\"T_0315d_row5_col7\" class=\"data row5 col7\" >0</td>\n",
              "      <td id=\"T_0315d_row5_col8\" class=\"data row5 col8\" >0</td>\n",
              "      <td id=\"T_0315d_row5_col9\" class=\"data row5 col9\" >0</td>\n",
              "      <td id=\"T_0315d_row5_col10\" class=\"data row5 col10\" >0</td>\n",
              "      <td id=\"T_0315d_row5_col11\" class=\"data row5 col11\" >0</td>\n",
              "      <td id=\"T_0315d_row5_col12\" class=\"data row5 col12\" >0</td>\n",
              "      <td id=\"T_0315d_row5_col13\" class=\"data row5 col13\" >0</td>\n",
              "      <td id=\"T_0315d_row5_col14\" class=\"data row5 col14\" >169</td>\n",
              "    </tr>\n",
              "    <tr>\n",
              "      <th id=\"T_0315d_level0_row6\" class=\"row_heading level0 row6\" >6</th>\n",
              "      <td id=\"T_0315d_row6_col0\" class=\"data row6 col0\" >0</td>\n",
              "      <td id=\"T_0315d_row6_col1\" class=\"data row6 col1\" >0</td>\n",
              "      <td id=\"T_0315d_row6_col2\" class=\"data row6 col2\" >0</td>\n",
              "      <td id=\"T_0315d_row6_col3\" class=\"data row6 col3\" >0</td>\n",
              "      <td id=\"T_0315d_row6_col4\" class=\"data row6 col4\" >0</td>\n",
              "      <td id=\"T_0315d_row6_col5\" class=\"data row6 col5\" >0</td>\n",
              "      <td id=\"T_0315d_row6_col6\" class=\"data row6 col6\" >0</td>\n",
              "      <td id=\"T_0315d_row6_col7\" class=\"data row6 col7\" >0</td>\n",
              "      <td id=\"T_0315d_row6_col8\" class=\"data row6 col8\" >0</td>\n",
              "      <td id=\"T_0315d_row6_col9\" class=\"data row6 col9\" >0</td>\n",
              "      <td id=\"T_0315d_row6_col10\" class=\"data row6 col10\" >0</td>\n",
              "      <td id=\"T_0315d_row6_col11\" class=\"data row6 col11\" >0</td>\n",
              "      <td id=\"T_0315d_row6_col12\" class=\"data row6 col12\" >0</td>\n",
              "      <td id=\"T_0315d_row6_col13\" class=\"data row6 col13\" >0</td>\n",
              "      <td id=\"T_0315d_row6_col14\" class=\"data row6 col14\" >169</td>\n",
              "    </tr>\n",
              "    <tr>\n",
              "      <th id=\"T_0315d_level0_row7\" class=\"row_heading level0 row7\" >7</th>\n",
              "      <td id=\"T_0315d_row7_col0\" class=\"data row7 col0\" >0</td>\n",
              "      <td id=\"T_0315d_row7_col1\" class=\"data row7 col1\" >0</td>\n",
              "      <td id=\"T_0315d_row7_col2\" class=\"data row7 col2\" >0</td>\n",
              "      <td id=\"T_0315d_row7_col3\" class=\"data row7 col3\" >0</td>\n",
              "      <td id=\"T_0315d_row7_col4\" class=\"data row7 col4\" >0</td>\n",
              "      <td id=\"T_0315d_row7_col5\" class=\"data row7 col5\" >0</td>\n",
              "      <td id=\"T_0315d_row7_col6\" class=\"data row7 col6\" >0</td>\n",
              "      <td id=\"T_0315d_row7_col7\" class=\"data row7 col7\" >0</td>\n",
              "      <td id=\"T_0315d_row7_col8\" class=\"data row7 col8\" >0</td>\n",
              "      <td id=\"T_0315d_row7_col9\" class=\"data row7 col9\" >0</td>\n",
              "      <td id=\"T_0315d_row7_col10\" class=\"data row7 col10\" >0</td>\n",
              "      <td id=\"T_0315d_row7_col11\" class=\"data row7 col11\" >0</td>\n",
              "      <td id=\"T_0315d_row7_col12\" class=\"data row7 col12\" >0</td>\n",
              "      <td id=\"T_0315d_row7_col13\" class=\"data row7 col13\" >0</td>\n",
              "      <td id=\"T_0315d_row7_col14\" class=\"data row7 col14\" >169</td>\n",
              "    </tr>\n",
              "    <tr>\n",
              "      <th id=\"T_0315d_level0_row8\" class=\"row_heading level0 row8\" >8</th>\n",
              "      <td id=\"T_0315d_row8_col0\" class=\"data row8 col0\" >0</td>\n",
              "      <td id=\"T_0315d_row8_col1\" class=\"data row8 col1\" >0</td>\n",
              "      <td id=\"T_0315d_row8_col2\" class=\"data row8 col2\" >0</td>\n",
              "      <td id=\"T_0315d_row8_col3\" class=\"data row8 col3\" >0</td>\n",
              "      <td id=\"T_0315d_row8_col4\" class=\"data row8 col4\" >0</td>\n",
              "      <td id=\"T_0315d_row8_col5\" class=\"data row8 col5\" >0</td>\n",
              "      <td id=\"T_0315d_row8_col6\" class=\"data row8 col6\" >0</td>\n",
              "      <td id=\"T_0315d_row8_col7\" class=\"data row8 col7\" >0</td>\n",
              "      <td id=\"T_0315d_row8_col8\" class=\"data row8 col8\" >0</td>\n",
              "      <td id=\"T_0315d_row8_col9\" class=\"data row8 col9\" >0</td>\n",
              "      <td id=\"T_0315d_row8_col10\" class=\"data row8 col10\" >0</td>\n",
              "      <td id=\"T_0315d_row8_col11\" class=\"data row8 col11\" >0</td>\n",
              "      <td id=\"T_0315d_row8_col12\" class=\"data row8 col12\" >0</td>\n",
              "      <td id=\"T_0315d_row8_col13\" class=\"data row8 col13\" >0</td>\n",
              "      <td id=\"T_0315d_row8_col14\" class=\"data row8 col14\" >169</td>\n",
              "    </tr>\n",
              "    <tr>\n",
              "      <th id=\"T_0315d_level0_row9\" class=\"row_heading level0 row9\" >9</th>\n",
              "      <td id=\"T_0315d_row9_col0\" class=\"data row9 col0\" >0</td>\n",
              "      <td id=\"T_0315d_row9_col1\" class=\"data row9 col1\" >0</td>\n",
              "      <td id=\"T_0315d_row9_col2\" class=\"data row9 col2\" >0</td>\n",
              "      <td id=\"T_0315d_row9_col3\" class=\"data row9 col3\" >0</td>\n",
              "      <td id=\"T_0315d_row9_col4\" class=\"data row9 col4\" >0</td>\n",
              "      <td id=\"T_0315d_row9_col5\" class=\"data row9 col5\" >0</td>\n",
              "      <td id=\"T_0315d_row9_col6\" class=\"data row9 col6\" >0</td>\n",
              "      <td id=\"T_0315d_row9_col7\" class=\"data row9 col7\" >0</td>\n",
              "      <td id=\"T_0315d_row9_col8\" class=\"data row9 col8\" >0</td>\n",
              "      <td id=\"T_0315d_row9_col9\" class=\"data row9 col9\" >0</td>\n",
              "      <td id=\"T_0315d_row9_col10\" class=\"data row9 col10\" >0</td>\n",
              "      <td id=\"T_0315d_row9_col11\" class=\"data row9 col11\" >0</td>\n",
              "      <td id=\"T_0315d_row9_col12\" class=\"data row9 col12\" >0</td>\n",
              "      <td id=\"T_0315d_row9_col13\" class=\"data row9 col13\" >10</td>\n",
              "      <td id=\"T_0315d_row9_col14\" class=\"data row9 col14\" >254</td>\n",
              "    </tr>\n",
              "    <tr>\n",
              "      <th id=\"T_0315d_level0_row10\" class=\"row_heading level0 row10\" >10</th>\n",
              "      <td id=\"T_0315d_row10_col0\" class=\"data row10 col0\" >0</td>\n",
              "      <td id=\"T_0315d_row10_col1\" class=\"data row10 col1\" >0</td>\n",
              "      <td id=\"T_0315d_row10_col2\" class=\"data row10 col2\" >0</td>\n",
              "      <td id=\"T_0315d_row10_col3\" class=\"data row10 col3\" >0</td>\n",
              "      <td id=\"T_0315d_row10_col4\" class=\"data row10 col4\" >0</td>\n",
              "      <td id=\"T_0315d_row10_col5\" class=\"data row10 col5\" >0</td>\n",
              "      <td id=\"T_0315d_row10_col6\" class=\"data row10 col6\" >0</td>\n",
              "      <td id=\"T_0315d_row10_col7\" class=\"data row10 col7\" >0</td>\n",
              "      <td id=\"T_0315d_row10_col8\" class=\"data row10 col8\" >0</td>\n",
              "      <td id=\"T_0315d_row10_col9\" class=\"data row10 col9\" >0</td>\n",
              "      <td id=\"T_0315d_row10_col10\" class=\"data row10 col10\" >0</td>\n",
              "      <td id=\"T_0315d_row10_col11\" class=\"data row10 col11\" >0</td>\n",
              "      <td id=\"T_0315d_row10_col12\" class=\"data row10 col12\" >0</td>\n",
              "      <td id=\"T_0315d_row10_col13\" class=\"data row10 col13\" >142</td>\n",
              "      <td id=\"T_0315d_row10_col14\" class=\"data row10 col14\" >242</td>\n",
              "    </tr>\n",
              "    <tr>\n",
              "      <th id=\"T_0315d_level0_row11\" class=\"row_heading level0 row11\" >11</th>\n",
              "      <td id=\"T_0315d_row11_col0\" class=\"data row11 col0\" >0</td>\n",
              "      <td id=\"T_0315d_row11_col1\" class=\"data row11 col1\" >0</td>\n",
              "      <td id=\"T_0315d_row11_col2\" class=\"data row11 col2\" >0</td>\n",
              "      <td id=\"T_0315d_row11_col3\" class=\"data row11 col3\" >0</td>\n",
              "      <td id=\"T_0315d_row11_col4\" class=\"data row11 col4\" >0</td>\n",
              "      <td id=\"T_0315d_row11_col5\" class=\"data row11 col5\" >0</td>\n",
              "      <td id=\"T_0315d_row11_col6\" class=\"data row11 col6\" >0</td>\n",
              "      <td id=\"T_0315d_row11_col7\" class=\"data row11 col7\" >0</td>\n",
              "      <td id=\"T_0315d_row11_col8\" class=\"data row11 col8\" >0</td>\n",
              "      <td id=\"T_0315d_row11_col9\" class=\"data row11 col9\" >0</td>\n",
              "      <td id=\"T_0315d_row11_col10\" class=\"data row11 col10\" >0</td>\n",
              "      <td id=\"T_0315d_row11_col11\" class=\"data row11 col11\" >0</td>\n",
              "      <td id=\"T_0315d_row11_col12\" class=\"data row11 col12\" >19</td>\n",
              "      <td id=\"T_0315d_row11_col13\" class=\"data row11 col13\" >221</td>\n",
              "      <td id=\"T_0315d_row11_col14\" class=\"data row11 col14\" >139</td>\n",
              "    </tr>\n",
              "    <tr>\n",
              "      <th id=\"T_0315d_level0_row12\" class=\"row_heading level0 row12\" >12</th>\n",
              "      <td id=\"T_0315d_row12_col0\" class=\"data row12 col0\" >0</td>\n",
              "      <td id=\"T_0315d_row12_col1\" class=\"data row12 col1\" >0</td>\n",
              "      <td id=\"T_0315d_row12_col2\" class=\"data row12 col2\" >0</td>\n",
              "      <td id=\"T_0315d_row12_col3\" class=\"data row12 col3\" >0</td>\n",
              "      <td id=\"T_0315d_row12_col4\" class=\"data row12 col4\" >0</td>\n",
              "      <td id=\"T_0315d_row12_col5\" class=\"data row12 col5\" >0</td>\n",
              "      <td id=\"T_0315d_row12_col6\" class=\"data row12 col6\" >0</td>\n",
              "      <td id=\"T_0315d_row12_col7\" class=\"data row12 col7\" >0</td>\n",
              "      <td id=\"T_0315d_row12_col8\" class=\"data row12 col8\" >0</td>\n",
              "      <td id=\"T_0315d_row12_col9\" class=\"data row12 col9\" >0</td>\n",
              "      <td id=\"T_0315d_row12_col10\" class=\"data row12 col10\" >0</td>\n",
              "      <td id=\"T_0315d_row12_col11\" class=\"data row12 col11\" >0</td>\n",
              "      <td id=\"T_0315d_row12_col12\" class=\"data row12 col12\" >195</td>\n",
              "      <td id=\"T_0315d_row12_col13\" class=\"data row12 col13\" >219</td>\n",
              "      <td id=\"T_0315d_row12_col14\" class=\"data row12 col14\" >28</td>\n",
              "    </tr>\n",
              "    <tr>\n",
              "      <th id=\"T_0315d_level0_row13\" class=\"row_heading level0 row13\" >13</th>\n",
              "      <td id=\"T_0315d_row13_col0\" class=\"data row13 col0\" >0</td>\n",
              "      <td id=\"T_0315d_row13_col1\" class=\"data row13 col1\" >108</td>\n",
              "      <td id=\"T_0315d_row13_col2\" class=\"data row13 col2\" >225</td>\n",
              "      <td id=\"T_0315d_row13_col3\" class=\"data row13 col3\" >236</td>\n",
              "      <td id=\"T_0315d_row13_col4\" class=\"data row13 col4\" >236</td>\n",
              "      <td id=\"T_0315d_row13_col5\" class=\"data row13 col5\" >183</td>\n",
              "      <td id=\"T_0315d_row13_col6\" class=\"data row13 col6\" >141</td>\n",
              "      <td id=\"T_0315d_row13_col7\" class=\"data row13 col7\" >141</td>\n",
              "      <td id=\"T_0315d_row13_col8\" class=\"data row13 col8\" >86</td>\n",
              "      <td id=\"T_0315d_row13_col9\" class=\"data row13 col9\" >48</td>\n",
              "      <td id=\"T_0315d_row13_col10\" class=\"data row13 col10\" >13</td>\n",
              "      <td id=\"T_0315d_row13_col11\" class=\"data row13 col11\" >72</td>\n",
              "      <td id=\"T_0315d_row13_col12\" class=\"data row13 col12\" >234</td>\n",
              "      <td id=\"T_0315d_row13_col13\" class=\"data row13 col13\" >53</td>\n",
              "      <td id=\"T_0315d_row13_col14\" class=\"data row13 col14\" >0</td>\n",
              "    </tr>\n",
              "    <tr>\n",
              "      <th id=\"T_0315d_level0_row14\" class=\"row_heading level0 row14\" >14</th>\n",
              "      <td id=\"T_0315d_row14_col0\" class=\"data row14 col0\" >0</td>\n",
              "      <td id=\"T_0315d_row14_col1\" class=\"data row14 col1\" >254</td>\n",
              "      <td id=\"T_0315d_row14_col2\" class=\"data row14 col2\" >152</td>\n",
              "      <td id=\"T_0315d_row14_col3\" class=\"data row14 col3\" >67</td>\n",
              "      <td id=\"T_0315d_row14_col4\" class=\"data row14 col4\" >47</td>\n",
              "      <td id=\"T_0315d_row14_col5\" class=\"data row14 col5\" >99</td>\n",
              "      <td id=\"T_0315d_row14_col6\" class=\"data row14 col6\" >140</td>\n",
              "      <td id=\"T_0315d_row14_col7\" class=\"data row14 col7\" >172</td>\n",
              "      <td id=\"T_0315d_row14_col8\" class=\"data row14 col8\" >235</td>\n",
              "      <td id=\"T_0315d_row14_col9\" class=\"data row14 col9\" >244</td>\n",
              "      <td id=\"T_0315d_row14_col10\" class=\"data row14 col10\" >219</td>\n",
              "      <td id=\"T_0315d_row14_col11\" class=\"data row14 col11\" >254</td>\n",
              "      <td id=\"T_0315d_row14_col12\" class=\"data row14 col12\" >183</td>\n",
              "      <td id=\"T_0315d_row14_col13\" class=\"data row14 col13\" >19</td>\n",
              "      <td id=\"T_0315d_row14_col14\" class=\"data row14 col14\" >14</td>\n",
              "    </tr>\n",
              "    <tr>\n",
              "      <th id=\"T_0315d_level0_row15\" class=\"row_heading level0 row15\" >15</th>\n",
              "      <td id=\"T_0315d_row15_col0\" class=\"data row15 col0\" >0</td>\n",
              "      <td id=\"T_0315d_row15_col1\" class=\"data row15 col1\" >255</td>\n",
              "      <td id=\"T_0315d_row15_col2\" class=\"data row15 col2\" >28</td>\n",
              "      <td id=\"T_0315d_row15_col3\" class=\"data row15 col3\" >0</td>\n",
              "      <td id=\"T_0315d_row15_col4\" class=\"data row15 col4\" >0</td>\n",
              "      <td id=\"T_0315d_row15_col5\" class=\"data row15 col5\" >0</td>\n",
              "      <td id=\"T_0315d_row15_col6\" class=\"data row15 col6\" >0</td>\n",
              "      <td id=\"T_0315d_row15_col7\" class=\"data row15 col7\" >0</td>\n",
              "      <td id=\"T_0315d_row15_col8\" class=\"data row15 col8\" >0</td>\n",
              "      <td id=\"T_0315d_row15_col9\" class=\"data row15 col9\" >154</td>\n",
              "      <td id=\"T_0315d_row15_col10\" class=\"data row15 col10\" >254</td>\n",
              "      <td id=\"T_0315d_row15_col11\" class=\"data row15 col11\" >169</td>\n",
              "      <td id=\"T_0315d_row15_col12\" class=\"data row15 col12\" >181</td>\n",
              "      <td id=\"T_0315d_row15_col13\" class=\"data row15 col13\" >254</td>\n",
              "      <td id=\"T_0315d_row15_col14\" class=\"data row15 col14\" >231</td>\n",
              "    </tr>\n",
              "  </tbody>\n",
              "</table>\n"
            ]
          },
          "metadata": {},
          "execution_count": 4
        }
      ]
    },
    {
      "cell_type": "code",
      "source": [
        "from torchvision import transforms\n",
        "\n",
        "twos_folder = (path/'training'/'2').ls()\n",
        "twos = [transforms.ToTensor()(Image.open(o)) for o in twos_folder]"
      ],
      "metadata": {
        "id": "IXHVDfCr-AO7"
      },
      "execution_count": 3,
      "outputs": []
    },
    {
      "cell_type": "code",
      "source": [
        "twoss = [tensor(Image.open(o)) for o in twos_folder]"
      ],
      "metadata": {
        "id": "uFFVo9JPCvwy"
      },
      "execution_count": 6,
      "outputs": []
    },
    {
      "cell_type": "code",
      "source": [
        "(torch.stack(twos).squeeze()[0] == torch.stack(twoss)[0] /255.0).sum()"
      ],
      "metadata": {
        "colab": {
          "base_uri": "https://localhost:8080/"
        },
        "id": "nSUpvXtMtZKD",
        "outputId": "1fd2d99c-d6ea-4703-808c-564729c58c87"
      },
      "execution_count": 7,
      "outputs": [
        {
          "output_type": "execute_result",
          "data": {
            "text/plain": [
              "tensor(784)"
            ]
          },
          "metadata": {},
          "execution_count": 7
        }
      ]
    },
    {
      "cell_type": "code",
      "source": [
        "(path/'training').ls()[0].name"
      ],
      "metadata": {
        "colab": {
          "base_uri": "https://localhost:8080/",
          "height": 36
        },
        "id": "78JkFnbmvde4",
        "outputId": "7d988087-695e-4a15-dd2a-df2b4e89625d"
      },
      "execution_count": 8,
      "outputs": [
        {
          "output_type": "execute_result",
          "data": {
            "text/plain": [
              "'9'"
            ],
            "application/vnd.google.colaboratory.intrinsic+json": {
              "type": "string"
            }
          },
          "metadata": {},
          "execution_count": 8
        }
      ]
    },
    {
      "cell_type": "code",
      "source": [
        "def get_x_data(training = True):\n",
        "  inner_f = 'testing' if not training else 'training'\n",
        "  numbers = []\n",
        "  \n",
        "  for p in (path/f'{inner_f}').ls():\n",
        "    i = [transforms.ToTensor()(Image.open(o)) for o in p.ls()]\n",
        "    stacked_i = torch.stack(i).squeeze()\n",
        "    numbers.append(stacked_i)\n",
        "    \n",
        "  return torch.cat(numbers).view(-1, 28 * 28)\n",
        "\n",
        "train_x = get_x_data()"
      ],
      "metadata": {
        "id": "E7h2DkDitdtk"
      },
      "execution_count": 4,
      "outputs": []
    },
    {
      "cell_type": "code",
      "source": [
        "train_y = torch.Tensor([int(p.name) for p in (path/'training').ls() for i in p.ls()])\n",
        "train_x.shape, train_y.shape"
      ],
      "metadata": {
        "colab": {
          "base_uri": "https://localhost:8080/"
        },
        "id": "qi9T6IEGvCRB",
        "outputId": "b0892548-b001-4bfe-9a0f-607c5bed211c"
      },
      "execution_count": 5,
      "outputs": [
        {
          "output_type": "execute_result",
          "data": {
            "text/plain": [
              "(torch.Size([60000, 784]), torch.Size([60000]))"
            ]
          },
          "metadata": {},
          "execution_count": 5
        }
      ]
    },
    {
      "cell_type": "code",
      "source": [
        "data = list(zip(train_x, train_y))"
      ],
      "metadata": {
        "id": "zE9lw0jy3LSk"
      },
      "execution_count": 11,
      "outputs": []
    },
    {
      "cell_type": "code",
      "source": [
        "x,y = data[0]\n",
        "x.shape, y.shape"
      ],
      "metadata": {
        "colab": {
          "base_uri": "https://localhost:8080/"
        },
        "id": "3N6gDGB-3hbA",
        "outputId": "c31ad664-50be-4ac7-d6eb-2bc3df3b34c5"
      },
      "execution_count": 12,
      "outputs": [
        {
          "output_type": "execute_result",
          "data": {
            "text/plain": [
              "(torch.Size([784]), torch.Size([]))"
            ]
          },
          "metadata": {},
          "execution_count": 12
        }
      ]
    },
    {
      "cell_type": "code",
      "source": [
        "valid_x = get_x_data(training=False)\n",
        "valid_y = torch.Tensor([int(p.name) for p in (path/'testing').ls() for i in p.ls()])\n",
        "print(valid_x.shape, valid_y.shape)\n",
        "validation_data = list(zip(valid_x, valid_y))"
      ],
      "metadata": {
        "colab": {
          "base_uri": "https://localhost:8080/"
        },
        "id": "pYvGk54s3ia7",
        "outputId": "273163ea-5bfd-4ac8-d1e1-7277e34dfc7e"
      },
      "execution_count": 6,
      "outputs": [
        {
          "output_type": "stream",
          "name": "stdout",
          "text": [
            "torch.Size([10000, 784]) torch.Size([10000])\n"
          ]
        }
      ]
    },
    {
      "cell_type": "code",
      "source": [
        "def init_params(size : Int, std = 0.1) -> torch.Tensor: \n",
        "  return (torch.randn(size)).requires_grad_()"
      ],
      "metadata": {
        "id": "lOVb3Jrs4Egp"
      },
      "execution_count": 7,
      "outputs": []
    },
    {
      "cell_type": "code",
      "source": [
        "weights = init_params((28 * 28, 10))\n",
        "bias = init_params(10)\n",
        "weights.shape, bias.shape"
      ],
      "metadata": {
        "colab": {
          "base_uri": "https://localhost:8080/"
        },
        "id": "NzEkfJnp4uyR",
        "outputId": "d817e3cf-99f4-4c58-9344-5a97a405c1cd"
      },
      "execution_count": 15,
      "outputs": [
        {
          "output_type": "execute_result",
          "data": {
            "text/plain": [
              "(torch.Size([784, 10]), torch.Size([10]))"
            ]
          },
          "metadata": {},
          "execution_count": 15
        }
      ]
    },
    {
      "cell_type": "code",
      "source": [
        "train_x[0].shape"
      ],
      "metadata": {
        "colab": {
          "base_uri": "https://localhost:8080/"
        },
        "id": "4T80X4mz77M5",
        "outputId": "4380c5d4-76ec-4390-f12a-b25315eb1c8d"
      },
      "execution_count": 16,
      "outputs": [
        {
          "output_type": "execute_result",
          "data": {
            "text/plain": [
              "torch.Size([784])"
            ]
          },
          "metadata": {},
          "execution_count": 16
        }
      ]
    },
    {
      "cell_type": "code",
      "source": [
        "(train_x[0] * weights.T).sum(axis = 1) + bias"
      ],
      "metadata": {
        "colab": {
          "base_uri": "https://localhost:8080/"
        },
        "id": "alb1NVG64-o5",
        "outputId": "3a7ee8a1-f132-4a47-e9d0-19e32160b1eb"
      },
      "execution_count": 17,
      "outputs": [
        {
          "output_type": "execute_result",
          "data": {
            "text/plain": [
              "tensor([-10.3446,   0.9014,   2.1841,  -8.9412,  -5.9019,   6.6065,  -2.3350,   5.8430,  10.7031,   5.9457], grad_fn=<AddBackward0>)"
            ]
          },
          "metadata": {},
          "execution_count": 17
        }
      ]
    },
    {
      "cell_type": "code",
      "source": [
        "train_x[0] @ weights + bias"
      ],
      "metadata": {
        "colab": {
          "base_uri": "https://localhost:8080/"
        },
        "id": "YJfYYy-86YtL",
        "outputId": "b21f31f2-6d26-451c-c0d6-ca47e0774118"
      },
      "execution_count": 18,
      "outputs": [
        {
          "output_type": "execute_result",
          "data": {
            "text/plain": [
              "tensor([-10.3446,   0.9014,   2.1841,  -8.9413,  -5.9019,   6.6065,  -2.3350,   5.8430,  10.7031,   5.9457], grad_fn=<AddBackward0>)"
            ]
          },
          "metadata": {},
          "execution_count": 18
        }
      ]
    },
    {
      "cell_type": "code",
      "source": [
        "def linear(x, params):\n",
        "  w,b = params\n",
        "  pred = x @ w + b\n",
        "  return pred\n",
        "\n",
        "preds = linear(train_x, (weights, bias))"
      ],
      "metadata": {
        "colab": {
          "base_uri": "https://localhost:8080/",
          "height": 200
        },
        "id": "5fUyomb36o5Y",
        "outputId": "01dc0ceb-9ddb-4fe9-af85-166dcdacc69a"
      },
      "execution_count": 8,
      "outputs": [
        {
          "output_type": "error",
          "ename": "NameError",
          "evalue": "ignored",
          "traceback": [
            "\u001b[0;31m---------------------------------------------------------------------------\u001b[0m",
            "\u001b[0;31mNameError\u001b[0m                                 Traceback (most recent call last)",
            "\u001b[0;32m<ipython-input-8-75e26aaec4ac>\u001b[0m in \u001b[0;36m<module>\u001b[0;34m\u001b[0m\n\u001b[1;32m      4\u001b[0m   \u001b[0;32mreturn\u001b[0m \u001b[0mpred\u001b[0m\u001b[0;34m\u001b[0m\u001b[0;34m\u001b[0m\u001b[0m\n\u001b[1;32m      5\u001b[0m \u001b[0;34m\u001b[0m\u001b[0m\n\u001b[0;32m----> 6\u001b[0;31m \u001b[0mpreds\u001b[0m \u001b[0;34m=\u001b[0m \u001b[0mlinear\u001b[0m\u001b[0;34m(\u001b[0m\u001b[0mtrain_x\u001b[0m\u001b[0;34m,\u001b[0m \u001b[0;34m(\u001b[0m\u001b[0mweights\u001b[0m\u001b[0;34m,\u001b[0m \u001b[0mbias\u001b[0m\u001b[0;34m)\u001b[0m\u001b[0;34m)\u001b[0m\u001b[0;34m\u001b[0m\u001b[0;34m\u001b[0m\u001b[0m\n\u001b[0m",
            "\u001b[0;31mNameError\u001b[0m: name 'weights' is not defined"
          ]
        }
      ]
    },
    {
      "cell_type": "code",
      "source": [
        "# different change in weights does not change the accuracy, hence accuracy is not a good measure for learning\n",
        "with torch.no_grad(): weights[0] *= 0.0001\n",
        "\n",
        "(torch.argmax(preds, axis = 1) == train_y).float().mean().item()"
      ],
      "metadata": {
        "id": "SQlcZW60-5DT"
      },
      "execution_count": null,
      "outputs": []
    },
    {
      "cell_type": "code",
      "source": [
        "def mnist_loss(predictions, targets):\n",
        "  loss = - predictions[range(len(targets)), targets].log().mean()\n",
        "  return loss\n",
        "  # loss = torch.nn.CrossEntropyLoss()\n",
        "  # return loss(predictions, targets)\n",
        "\n",
        "# mnist_loss(preds, train_y)"
      ],
      "metadata": {
        "id": "7y1xIlZl_CW5"
      },
      "execution_count": 9,
      "outputs": []
    },
    {
      "cell_type": "code",
      "source": [
        "# sanity check\n",
        "t = torch.Tensor([[0.4,0.45,0.15]]).requires_grad_()\n",
        "tr = torch.LongTensor([0])\n",
        "mnist_loss(t, tr)"
      ],
      "metadata": {
        "colab": {
          "base_uri": "https://localhost:8080/"
        },
        "id": "e_kljW-_DITp",
        "outputId": "496e9e34-038b-4844-f86f-fce0f3e0ae0b"
      },
      "execution_count": 10,
      "outputs": [
        {
          "output_type": "execute_result",
          "data": {
            "text/plain": [
              "tensor(0.9163, grad_fn=<NegBackward0>)"
            ]
          },
          "metadata": {},
          "execution_count": 10
        }
      ]
    },
    {
      "cell_type": "code",
      "source": [
        "def softmax(x):\n",
        "  activation = torch.exp(x) / torch.exp(x).sum(axis = 1).unsqueeze(1)\n",
        "  return activation"
      ],
      "metadata": {
        "id": "GB51AYzAD-Fs"
      },
      "execution_count": 11,
      "outputs": []
    },
    {
      "cell_type": "code",
      "source": [
        "# unit test for softmax\n",
        "test = torch.Tensor([[1,2,3,4,5]])\n",
        "print(softmax(test))\n",
        "print(softmax(test).sum())"
      ],
      "metadata": {
        "colab": {
          "base_uri": "https://localhost:8080/"
        },
        "id": "hjHX3bDOIJvv",
        "outputId": "94849bb3-7e02-43fb-8ef6-61e71c9304f7"
      },
      "execution_count": 12,
      "outputs": [
        {
          "output_type": "stream",
          "name": "stdout",
          "text": [
            "tensor([[0.0117, 0.0317, 0.0861, 0.2341, 0.6364]])\n",
            "tensor(1.)\n"
          ]
        }
      ]
    },
    {
      "cell_type": "code",
      "source": [
        "def accuracy(preds, y):\n",
        "  return (torch.argmax(preds, axis = 1) == y).float().mean()"
      ],
      "metadata": {
        "id": "gMka9v1LJjsh"
      },
      "execution_count": 13,
      "outputs": []
    },
    {
      "cell_type": "code",
      "source": [
        "def update_weights(params, lr):\n",
        "  for p in params:\n",
        "    p.data -= lr * p.grad\n",
        "    p.grad.zero_()\n",
        "  return params"
      ],
      "metadata": {
        "id": "KOySiQe3KVse"
      },
      "execution_count": 14,
      "outputs": []
    },
    {
      "cell_type": "code",
      "source": [
        "def train_cycle(x, y, params, lr = 0.1, epochs = 10):\n",
        "  x_train, x_val = x\n",
        "  y_train, y_val = y\n",
        "\n",
        "  history = []\n",
        "\n",
        "  for i in range(epochs):\n",
        "    preds = linear(x_train, params)\n",
        "    activations = softmax(preds)\n",
        "    target = y_train.clone().type(torch.LongTensor)\n",
        "    loss = mnist_loss(activations, target)\n",
        "    acc = accuracy(activations, target)\n",
        "\n",
        "    val_pred = linear(x_val, params)\n",
        "    activations_val = softmax(val_pred)\n",
        "    val_target = y_val.clone().squeeze().type(torch.LongTensor)\n",
        "    val_acc = accuracy(activations_val, val_target)\n",
        "    \n",
        "    \n",
        "    history.append((loss, acc, val_acc))\n",
        "    loss.backward()\n",
        "    \n",
        "    print(f\"Epoch #{i} : Loss {loss:.2f}, Train Acc: {acc:.2f}, Val Acc: {val_acc:.2f}, bias.grad_sum: {bias.grad.sum()}, weights.grad_sum: {weights.grad.sum()}\")\n",
        "    update_weights(params, lr)"
      ],
      "metadata": {
        "id": "4CUH0gfWIRRO"
      },
      "execution_count": 15,
      "outputs": []
    },
    {
      "cell_type": "code",
      "source": [
        "weights = init_params((28 * 28, 10))\n",
        "bias = init_params(10)\n",
        "train_cycle((train_x, valid_x), (train_y, valid_y), (weights, bias), epochs = 300)"
      ],
      "metadata": {
        "id": "7OXBxAYPK9oW"
      },
      "execution_count": null,
      "outputs": []
    },
    {
      "cell_type": "code",
      "source": [
        "(torch.argmax(linear(train_x, (weights, bias)), dim = 1) == train_y.type(torch.LongTensor)).float().mean()"
      ],
      "metadata": {
        "colab": {
          "base_uri": "https://localhost:8080/"
        },
        "id": "mByqKoXUISlM",
        "outputId": "684a7010-da99-46e9-c32c-db4e570800e3"
      },
      "execution_count": 17,
      "outputs": [
        {
          "output_type": "execute_result",
          "data": {
            "text/plain": [
              "tensor(0.3201)"
            ]
          },
          "metadata": {},
          "execution_count": 17
        }
      ]
    },
    {
      "cell_type": "code",
      "source": [
        "img = transforms.ToPILImage()(valid_x[1].view(28, 28))\n",
        "img"
      ],
      "metadata": {
        "colab": {
          "base_uri": "https://localhost:8080/",
          "height": 45
        },
        "id": "mufgvl14MVR6",
        "outputId": "2bc1500b-5782-4e66-9867-9a8f3d926663"
      },
      "execution_count": 18,
      "outputs": [
        {
          "output_type": "execute_result",
          "data": {
            "text/plain": [
              "<PIL.Image.Image image mode=L size=28x28>"
            ],
            "image/png": "[encoded data removed]"
          },
          "metadata": {},
          "execution_count": 18
        }
      ]
    },
    {
      "cell_type": "code",
      "source": [
        "torch.argmax(linear(valid_x[1].unsqueeze(1).T, (weights, bias)), dim = 1).item()"
      ],
      "metadata": {
        "colab": {
          "base_uri": "https://localhost:8080/"
        },
        "id": "e0oNYW4NOrML",
        "outputId": "3ecaf4d0-dea9-40e1-9cf6-5ef5dafe1ef9"
      },
      "execution_count": 19,
      "outputs": [
        {
          "output_type": "execute_result",
          "data": {
            "text/plain": [
              "4"
            ]
          },
          "metadata": {},
          "execution_count": 19
        }
      ]
    },
    {
      "cell_type": "markdown",
      "source": [
        "# MNIST with Minibatches"
      ],
      "metadata": {
        "id": "SggtHRgdYe-q"
      }
    },
    {
      "cell_type": "code",
      "source": [
        "torch.manual_seed(1)\n",
        "np.random.seed(1)\n",
        "random.seed(1)"
      ],
      "metadata": {
        "id": "MQU6CqWNiWhF"
      },
      "execution_count": 20,
      "outputs": []
    },
    {
      "cell_type": "code",
      "source": [
        "coll = range(15)\n",
        "dl = torch.utils.data.DataLoader(coll, batch_size = 5, shuffle = True)\n",
        "list(dl)"
      ],
      "metadata": {
        "colab": {
          "base_uri": "https://localhost:8080/"
        },
        "id": "vrQzVhsVhPBh",
        "outputId": "cf8978ad-a9bc-4f46-a38b-8f503f794d7e"
      },
      "execution_count": 21,
      "outputs": [
        {
          "output_type": "execute_result",
          "data": {
            "text/plain": [
              "[tensor([ 9,  1,  4, 12, 10]),\n",
              " tensor([7, 2, 6, 3, 0]),\n",
              " tensor([ 5, 11, 13, 14,  8])]"
            ]
          },
          "metadata": {},
          "execution_count": 21
        }
      ]
    },
    {
      "cell_type": "code",
      "source": [
        "ds = L(enumerate(string.ascii_lowercase))\n",
        "ds"
      ],
      "metadata": {
        "colab": {
          "base_uri": "https://localhost:8080/"
        },
        "id": "OeNdkFLGhXom",
        "outputId": "61a84d45-26eb-454e-9cc1-6901acae65bf"
      },
      "execution_count": 22,
      "outputs": [
        {
          "output_type": "execute_result",
          "data": {
            "text/plain": [
              "(#26) [(0, 'a'),(1, 'b'),(2, 'c'),(3, 'd'),(4, 'e'),(5, 'f'),(6, 'g'),(7, 'h'),(8, 'i'),(9, 'j')...]"
            ]
          },
          "metadata": {},
          "execution_count": 22
        }
      ]
    },
    {
      "cell_type": "code",
      "source": [
        "dl = torch.utils.data.DataLoader(ds, batch_size = 8, shuffle =False)\n",
        "list(dl)"
      ],
      "metadata": {
        "colab": {
          "base_uri": "https://localhost:8080/"
        },
        "id": "MmFYfxZ1iut3",
        "outputId": "0b3a9ecb-ee61-4d6a-fc77-d1e07eb0eff4"
      },
      "execution_count": 23,
      "outputs": [
        {
          "output_type": "execute_result",
          "data": {
            "text/plain": [
              "[[tensor([0, 1, 2, 3, 4, 5, 6, 7]), ('a', 'b', 'c', 'd', 'e', 'f', 'g', 'h')],\n",
              " [tensor([ 8,  9, 10, 11, 12, 13, 14, 15]),\n",
              "  ('i', 'j', 'k', 'l', 'm', 'n', 'o', 'p')],\n",
              " [tensor([16, 17, 18, 19, 20, 21, 22, 23]),\n",
              "  ('q', 'r', 's', 't', 'u', 'v', 'w', 'x')],\n",
              " [tensor([24, 25]), ('y', 'z')]]"
            ]
          },
          "metadata": {},
          "execution_count": 23
        }
      ]
    },
    {
      "cell_type": "code",
      "source": [
        "train_data = list(zip(train_x, train_y.unsqueeze(1).type(torch.LongTensor)))\n",
        "val_data = list(zip(valid_x, valid_y.unsqueeze(1).type(torch.LongTensor)))"
      ],
      "metadata": {
        "id": "ME-Eia7gi6Im"
      },
      "execution_count": 24,
      "outputs": []
    },
    {
      "cell_type": "code",
      "source": [
        "train_data[0][0].shape, train_data[0][1].shape"
      ],
      "metadata": {
        "colab": {
          "base_uri": "https://localhost:8080/"
        },
        "id": "d2ZlCYtK4str",
        "outputId": "b4f9fbb6-3e56-4fcc-8baa-58ab1c2be551"
      },
      "execution_count": 25,
      "outputs": [
        {
          "output_type": "execute_result",
          "data": {
            "text/plain": [
              "(torch.Size([784]), torch.Size([1]))"
            ]
          },
          "metadata": {},
          "execution_count": 25
        }
      ]
    },
    {
      "cell_type": "code",
      "source": [
        "print(train_data[0][1])\n",
        "img = transforms.ToPILImage()(train_data[0][0].view(28,28))\n",
        "img"
      ],
      "metadata": {
        "colab": {
          "base_uri": "https://localhost:8080/",
          "height": 62
        },
        "id": "x4Z3NqJa5Lum",
        "outputId": "41406ce1-9e8e-464b-9663-853f4785b103"
      },
      "execution_count": 26,
      "outputs": [
        {
          "output_type": "stream",
          "name": "stdout",
          "text": [
            "tensor([9])\n"
          ]
        },
        {
          "output_type": "execute_result",
          "data": {
            "text/plain": [
              "<PIL.Image.Image image mode=L size=28x28>"
            ],
            "image/png": "[encoded data removed]"
          },
          "metadata": {},
          "execution_count": 26
        }
      ]
    },
    {
      "cell_type": "code",
      "source": [
        "torch.manual_seed(1)\n",
        "np.random.seed(1)\n",
        "random.seed(1)\n",
        "weights = init_params((28*28, 10))\n",
        "bias = init_params(10)\n",
        "dl = DataLoader(train_data, batch_size = 256, shuffle = True)"
      ],
      "metadata": {
        "id": "spn5Vf3ejzBZ"
      },
      "execution_count": 27,
      "outputs": []
    },
    {
      "cell_type": "code",
      "source": [
        "xb, yb = first(dl)\n",
        "xb.shape, yb.shape"
      ],
      "metadata": {
        "colab": {
          "base_uri": "https://localhost:8080/"
        },
        "id": "wCdAp_uikQjy",
        "outputId": "7a518e04-96a4-46c9-c97f-8d77f59dd8bb"
      },
      "execution_count": 28,
      "outputs": [
        {
          "output_type": "execute_result",
          "data": {
            "text/plain": [
              "(torch.Size([256, 784]), torch.Size([256, 1]))"
            ]
          },
          "metadata": {},
          "execution_count": 28
        }
      ]
    },
    {
      "cell_type": "code",
      "source": [
        "valid_dl = DataLoader(val_data, batch_size = 256)"
      ],
      "metadata": {
        "id": "T1DO8ydekreb"
      },
      "execution_count": 29,
      "outputs": []
    },
    {
      "cell_type": "code",
      "source": [
        "batch = train_x[:4]\n",
        "print(batch.shape)\n",
        "preds = linear(batch, (weights, bias))\n",
        "print(preds)\n",
        "loss = mnist_loss(softmax(preds), train_y[:4].type(torch.LongTensor))\n",
        "print(loss)\n",
        "loss.backward()\n",
        "weights.grad.shape, weights.grad.mean(), bias.grad.shape, bias.grad.mean()"
      ],
      "metadata": {
        "colab": {
          "base_uri": "https://localhost:8080/"
        },
        "id": "LpVfayK7k966",
        "outputId": "8761c663-2d17-4f3a-a735-b91085190b08"
      },
      "execution_count": 30,
      "outputs": [
        {
          "output_type": "stream",
          "name": "stdout",
          "text": [
            "torch.Size([4, 784])\n",
            "tensor([[  6.1894,   1.4975, -14.6353,   0.8296,   0.6887,  -7.0985, -11.7153,  -7.8400, -15.2752,  16.4157],\n",
            "        [-16.3663,   2.0219,  -1.8764, -11.3474,  24.7934,   9.8469, -25.4581,  -4.2448, -16.0344,   7.3866],\n",
            "        [ -0.6646,  10.7198,  -1.5649,  -3.8302,   0.1207,   1.3874,  -2.2511, -15.4515,  -8.0743,  13.4194],\n",
            "        [  4.7772,   8.3710,  -8.5434,   9.6527,   4.2589,  -6.1182,  -6.5543,   0.7095, -15.1169,  -7.0602]], grad_fn=<AddBackward0>)\n",
            "tensor(8.6098, grad_fn=<NegBackward0>)\n"
          ]
        },
        {
          "output_type": "execute_result",
          "data": {
            "text/plain": [
              "(torch.Size([784, 10]),\n",
              " tensor(1.2164e-10),\n",
              " torch.Size([10]),\n",
              " tensor(-3.8972e-09))"
            ]
          },
          "metadata": {},
          "execution_count": 30
        }
      ]
    },
    {
      "cell_type": "code",
      "source": [
        "def calc_grad(xb, yb, model):\n",
        "  preds = model(xb, (weights, bias))\n",
        "  loss = mnist_loss(softmax(preds), yb.type(torch.LongTensor))\n",
        "  loss.backward()\n",
        "\n",
        "calc_grad(train_x[:4], train_y[:4], linear)"
      ],
      "metadata": {
        "id": "-T8GtJDxlD_w"
      },
      "execution_count": 31,
      "outputs": []
    },
    {
      "cell_type": "code",
      "source": [
        "weights.grad.mean(), bias.grad.mean()"
      ],
      "metadata": {
        "colab": {
          "base_uri": "https://localhost:8080/"
        },
        "id": "UXQ0z2z_mMoY",
        "outputId": "d5f220cd-85b4-4ab5-d340-0179d2912c3a"
      },
      "execution_count": 32,
      "outputs": [
        {
          "output_type": "execute_result",
          "data": {
            "text/plain": [
              "(tensor(2.4328e-10), tensor(-7.7944e-09))"
            ]
          },
          "metadata": {},
          "execution_count": 32
        }
      ]
    },
    {
      "cell_type": "code",
      "source": [
        "for i in range(10):\n",
        "  acc = []\n",
        "  for j, (xb, yb) in enumerate(dl):\n",
        "    preds = linear(xb, (weights, bias))\n",
        "    activations = softmax(preds)\n",
        "    loss = mnist_loss(activations, yb.squeeze().type(torch.LongTensor))\n",
        "    acc.append(accuracy(activations, yb.squeeze()))\n",
        "    loss.backward()\n",
        "    update_weights((weights, bias), 0.1)\n",
        "  print(f\"Epoch: {i}, Batch: {j}, Loss: {loss:.2f}, Acc :{np.mean(acc):.2f}\")\n",
        "  acc = []"
      ],
      "metadata": {
        "colab": {
          "base_uri": "https://localhost:8080/"
        },
        "id": "TUgNdX6Ymbar",
        "outputId": "4a642aae-7eb5-4ae3-c573-a09ec6b70271"
      },
      "execution_count": 33,
      "outputs": [
        {
          "output_type": "stream",
          "name": "stdout",
          "text": [
            "Epoch: 0, Batch: 234, Loss: 2.63, Acc :0.43\n",
            "Epoch: 1, Batch: 234, Loss: 1.41, Acc :0.68\n",
            "Epoch: 2, Batch: 234, Loss: 1.56, Acc :0.75\n",
            "Epoch: 3, Batch: 234, Loss: 1.25, Acc :0.78\n",
            "Epoch: 4, Batch: 234, Loss: 0.87, Acc :0.80\n",
            "Epoch: 5, Batch: 234, Loss: 0.69, Acc :0.81\n",
            "Epoch: 6, Batch: 234, Loss: 0.76, Acc :0.82\n",
            "Epoch: 7, Batch: 234, Loss: 0.78, Acc :0.83\n",
            "Epoch: 8, Batch: 234, Loss: 0.85, Acc :0.84\n",
            "Epoch: 9, Batch: 234, Loss: 0.77, Acc :0.84\n"
          ]
        }
      ]
    },
    {
      "cell_type": "code",
      "source": [
        "print(yb[22])\n",
        "transforms.ToPILImage()(xb[22].view(28,28))"
      ],
      "metadata": {
        "colab": {
          "base_uri": "https://localhost:8080/",
          "height": 62
        },
        "id": "VqlYOCYK-qI1",
        "outputId": "0a5494e2-0822-4a90-b885-1c3730b2b06e"
      },
      "execution_count": 34,
      "outputs": [
        {
          "output_type": "stream",
          "name": "stdout",
          "text": [
            "tensor([7])\n"
          ]
        },
        {
          "output_type": "execute_result",
          "data": {
            "text/plain": [
              "<PIL.Image.Image image mode=L size=28x28>"
            ],
            "image/png": "[encoded data removed]"
          },
          "metadata": {},
          "execution_count": 34
        }
      ]
    },
    {
      "cell_type": "code",
      "source": [
        "xb,yb = first(dl)\n",
        "yb.squeeze().shape"
      ],
      "metadata": {
        "colab": {
          "base_uri": "https://localhost:8080/"
        },
        "id": "xPwXVwSg_pNu",
        "outputId": "202eacaa-0999-44e7-d876-1ff4d5f04407"
      },
      "execution_count": 35,
      "outputs": [
        {
          "output_type": "execute_result",
          "data": {
            "text/plain": [
              "torch.Size([256])"
            ]
          },
          "metadata": {},
          "execution_count": 35
        }
      ]
    },
    {
      "cell_type": "markdown",
      "source": [
        "# Optimizer (Learner)"
      ],
      "metadata": {
        "id": "ONIl30EYn9Vi"
      }
    },
    {
      "cell_type": "code",
      "source": [
        "linear_model = nn.Linear(28*28, 10)\n",
        "w, b = linear_model.parameters()\n",
        "w.shape, b.shape"
      ],
      "metadata": {
        "colab": {
          "base_uri": "https://localhost:8080/"
        },
        "id": "3C0PH_5onOFy",
        "outputId": "a9b90777-d7fe-48e5-9b98-df83bbfb37a5"
      },
      "execution_count": 53,
      "outputs": [
        {
          "output_type": "execute_result",
          "data": {
            "text/plain": [
              "(torch.Size([10, 784]), torch.Size([10]))"
            ]
          },
          "metadata": {},
          "execution_count": 53
        }
      ]
    },
    {
      "cell_type": "code",
      "source": [
        "def calc_grad(xb, yb, model):\n",
        "  preds = model(xb)\n",
        "  loss = mnist_loss(softmax(preds), yb.squeeze().type(torch.LongTensor))\n",
        "  loss.backward()"
      ],
      "metadata": {
        "id": "69eLpDofqOrf"
      },
      "execution_count": 54,
      "outputs": []
    },
    {
      "cell_type": "code",
      "source": [
        "class BaseOptim:\n",
        "  def __init__(self, params, lr): self.params, self.lr = list(params), lr\n",
        "\n",
        "  def step(self, *args, **kwargs):\n",
        "    for p in self.params: p.data -= p.grad.data * self.lr\n",
        "  \n",
        "  def zero_grad(self, *args, **kwargs):\n",
        "    for p in self.params: p.grad = None"
      ],
      "metadata": {
        "id": "mn6M8xuNoLe6"
      },
      "execution_count": 55,
      "outputs": []
    },
    {
      "cell_type": "code",
      "source": [
        "def validate_epoch(model):\n",
        "  accs = [accuracy(model(xb), yb.squeeze()) for xb,yb in valid_dl]\n",
        "  return round(torch.stack(accs).mean().item(), 4)"
      ],
      "metadata": {
        "id": "496-OwtLqnQF"
      },
      "execution_count": 56,
      "outputs": []
    },
    {
      "cell_type": "code",
      "source": [
        "opt = BaseOptim(linear_model.parameters(), 0.01)"
      ],
      "metadata": {
        "id": "khLALQoEpp6u"
      },
      "execution_count": 57,
      "outputs": []
    },
    {
      "cell_type": "code",
      "source": [
        "def train_epoch(model):\n",
        "  for xb, yb in dl:\n",
        "    calc_grad(xb, yb, model)\n",
        "    opt.step()\n",
        "    opt.zero_grad()"
      ],
      "metadata": {
        "id": "gMiGJ2I_pvfV"
      },
      "execution_count": 58,
      "outputs": []
    },
    {
      "cell_type": "code",
      "source": [
        "def train_model(model, epochs):\n",
        "  for i in range(epochs):\n",
        "    train_epoch(model)\n",
        "    print(validate_epoch(model), end = \" \")"
      ],
      "metadata": {
        "id": "mItbPfP0sQLk"
      },
      "execution_count": 59,
      "outputs": []
    },
    {
      "cell_type": "code",
      "source": [
        "for i in range(10):\n",
        "  train_epoch(linear_model)\n",
        "  print(validate_epoch(linear_model), end = \" \")"
      ],
      "metadata": {
        "colab": {
          "base_uri": "https://localhost:8080/"
        },
        "id": "fAbtkLJ8rGO5",
        "outputId": "e94320b4-072a-4263-e48c-9e88e33c3eb6"
      },
      "execution_count": 60,
      "outputs": [
        {
          "output_type": "stream",
          "name": "stdout",
          "text": [
            "0.8266 0.8507 0.8633 0.8696 0.8764 0.8805 0.8831 0.8854 0.887 0.8896 "
          ]
        }
      ]
    },
    {
      "cell_type": "code",
      "source": [
        "linear_model = nn.Linear(28*28, 10)\n",
        "opt = SGD(linear_model.parameters(), 0.01)\n",
        "train_model(linear_model, 20)"
      ],
      "metadata": {
        "colab": {
          "base_uri": "https://localhost:8080/"
        },
        "id": "_jcbfk-lqWyr",
        "outputId": "c347d00a-3847-4f57-c6c3-339dd7a7ef6f"
      },
      "execution_count": 129,
      "outputs": [
        {
          "output_type": "stream",
          "name": "stdout",
          "text": [
            "0.1132 0.1206 0.1266 0.1352 0.1449 0.1544 0.1693 0.1842 0.2003 0.2166 0.2371 0.2581 0.2781 0.3054 0.324 0.3439 0.3616 0.3794 0.3971 0.4118 "
          ]
        }
      ]
    },
    {
      "cell_type": "code",
      "source": [
        "def mnist_loss_t(predictions, targets):\n",
        "  pred = softmax(predictions)\n",
        "  loss = - pred[range(targets.shape[0]), targets].log().mean()\n",
        "  return loss"
      ],
      "metadata": {
        "id": "BMi9_D9os9bX"
      },
      "execution_count": 126,
      "outputs": []
    },
    {
      "cell_type": "code",
      "source": [
        "train_data = list(zip(train_x, train_y.type(torch.LongTensor)))\n",
        "val_data = list(zip(valid_x, valid_y.type(torch.LongTensor)))\n",
        "\n",
        "dl = DataLoader(train_data, batch_size = len(train_data), shuffle = True)\n",
        "vaid_dl = DataLoader(val_data, batch_size = len(val_data))\n",
        "\n",
        "dls = DataLoaders(dl, valid_dl)\n",
        "learn = Learner(dls, nn.Linear(28 * 28, 10), opt_func = SGD, loss_func = mnist_loss_t, metrics = accuracy)"
      ],
      "metadata": {
        "id": "oBjJQ8WxtNLm"
      },
      "execution_count": 145,
      "outputs": []
    },
    {
      "cell_type": "code",
      "source": [
        "learn.fit(n_epoch = 20, lr = 0.1)"
      ],
      "metadata": {
        "colab": {
          "base_uri": "https://localhost:8080/",
          "height": 676
        },
        "id": "kbDQlXyTQsDm",
        "outputId": "4915111d-e64e-4a38-a454-4060f96a0e9c"
      },
      "execution_count": 146,
      "outputs": [
        {
          "output_type": "display_data",
          "data": {
            "text/plain": [
              "<IPython.core.display.HTML object>"
            ],
            "text/html": [
              "\n",
              "<style>\n",
              "    /* Turns off some styling */\n",
              "    progress {\n",
              "        /* gets rid of default border in Firefox and Opera. */\n",
              "        border: none;\n",
              "        /* Needs to be in here for Safari polyfill so background images work as expected. */\n",
              "        background-size: auto;\n",
              "    }\n",
              "    progress:not([value]), progress:not([value])::-webkit-progress-bar {\n",
              "        background: repeating-linear-gradient(45deg, #7e7e7e, #7e7e7e 10px, #5c5c5c 10px, #5c5c5c 20px);\n",
              "    }\n",
              "    .progress-bar-interrupted, .progress-bar-interrupted::-webkit-progress-bar {\n",
              "        background: #F44336;\n",
              "    }\n",
              "</style>\n"
            ]
          },
          "metadata": {}
        },
        {
          "output_type": "display_data",
          "data": {
            "text/plain": [
              "<IPython.core.display.HTML object>"
            ],
            "text/html": [
              "<table border=\"1\" class=\"dataframe\">\n",
              "  <thead>\n",
              "    <tr style=\"text-align: left;\">\n",
              "      <th>epoch</th>\n",
              "      <th>train_loss</th>\n",
              "      <th>valid_loss</th>\n",
              "      <th>accuracy</th>\n",
              "      <th>time</th>\n",
              "    </tr>\n",
              "  </thead>\n",
              "  <tbody>\n",
              "    <tr>\n",
              "      <td>0</td>\n",
              "      <td>2.325047</td>\n",
              "      <td>2.221424</td>\n",
              "      <td>0.233316</td>\n",
              "      <td>00:01</td>\n",
              "    </tr>\n",
              "    <tr>\n",
              "      <td>1</td>\n",
              "      <td>2.269006</td>\n",
              "      <td>2.128959</td>\n",
              "      <td>0.397255</td>\n",
              "      <td>00:00</td>\n",
              "    </tr>\n",
              "    <tr>\n",
              "      <td>2</td>\n",
              "      <td>2.216597</td>\n",
              "      <td>2.044711</td>\n",
              "      <td>0.527972</td>\n",
              "      <td>00:00</td>\n",
              "    </tr>\n",
              "    <tr>\n",
              "      <td>3</td>\n",
              "      <td>2.167009</td>\n",
              "      <td>1.967234</td>\n",
              "      <td>0.599600</td>\n",
              "      <td>00:00</td>\n",
              "    </tr>\n",
              "    <tr>\n",
              "      <td>4</td>\n",
              "      <td>2.119817</td>\n",
              "      <td>1.895797</td>\n",
              "      <td>0.639169</td>\n",
              "      <td>00:00</td>\n",
              "    </tr>\n",
              "    <tr>\n",
              "      <td>5</td>\n",
              "      <td>2.074777</td>\n",
              "      <td>1.829909</td>\n",
              "      <td>0.664732</td>\n",
              "      <td>00:00</td>\n",
              "    </tr>\n",
              "    <tr>\n",
              "      <td>6</td>\n",
              "      <td>2.031727</td>\n",
              "      <td>1.769160</td>\n",
              "      <td>0.682519</td>\n",
              "      <td>00:00</td>\n",
              "    </tr>\n",
              "    <tr>\n",
              "      <td>7</td>\n",
              "      <td>1.990546</td>\n",
              "      <td>1.713162</td>\n",
              "      <td>0.693787</td>\n",
              "      <td>00:00</td>\n",
              "    </tr>\n",
              "    <tr>\n",
              "      <td>8</td>\n",
              "      <td>1.951130</td>\n",
              "      <td>1.661545</td>\n",
              "      <td>0.702007</td>\n",
              "      <td>00:00</td>\n",
              "    </tr>\n",
              "    <tr>\n",
              "      <td>9</td>\n",
              "      <td>1.913387</td>\n",
              "      <td>1.613952</td>\n",
              "      <td>0.710891</td>\n",
              "      <td>00:00</td>\n",
              "    </tr>\n",
              "    <tr>\n",
              "      <td>10</td>\n",
              "      <td>1.877230</td>\n",
              "      <td>1.570044</td>\n",
              "      <td>0.716084</td>\n",
              "      <td>00:00</td>\n",
              "    </tr>\n",
              "    <tr>\n",
              "      <td>11</td>\n",
              "      <td>1.842576</td>\n",
              "      <td>1.529503</td>\n",
              "      <td>0.722301</td>\n",
              "      <td>00:00</td>\n",
              "    </tr>\n",
              "    <tr>\n",
              "      <td>12</td>\n",
              "      <td>1.809345</td>\n",
              "      <td>1.492031</td>\n",
              "      <td>0.728015</td>\n",
              "      <td>00:00</td>\n",
              "    </tr>\n",
              "    <tr>\n",
              "      <td>13</td>\n",
              "      <td>1.777462</td>\n",
              "      <td>1.457359</td>\n",
              "      <td>0.731577</td>\n",
              "      <td>00:00</td>\n",
              "    </tr>\n",
              "    <tr>\n",
              "      <td>14</td>\n",
              "      <td>1.746853</td>\n",
              "      <td>1.425234</td>\n",
              "      <td>0.736505</td>\n",
              "      <td>00:00</td>\n",
              "    </tr>\n",
              "    <tr>\n",
              "      <td>15</td>\n",
              "      <td>1.717450</td>\n",
              "      <td>1.395430</td>\n",
              "      <td>0.739140</td>\n",
              "      <td>00:00</td>\n",
              "    </tr>\n",
              "    <tr>\n",
              "      <td>16</td>\n",
              "      <td>1.689188</td>\n",
              "      <td>1.367740</td>\n",
              "      <td>0.742045</td>\n",
              "      <td>00:00</td>\n",
              "    </tr>\n",
              "    <tr>\n",
              "      <td>17</td>\n",
              "      <td>1.662005</td>\n",
              "      <td>1.341976</td>\n",
              "      <td>0.744175</td>\n",
              "      <td>00:00</td>\n",
              "    </tr>\n",
              "    <tr>\n",
              "      <td>18</td>\n",
              "      <td>1.635841</td>\n",
              "      <td>1.317969</td>\n",
              "      <td>0.747190</td>\n",
              "      <td>00:00</td>\n",
              "    </tr>\n",
              "    <tr>\n",
              "      <td>19</td>\n",
              "      <td>1.610643</td>\n",
              "      <td>1.295565</td>\n",
              "      <td>0.750161</td>\n",
              "      <td>00:00</td>\n",
              "    </tr>\n",
              "  </tbody>\n",
              "</table>"
            ]
          },
          "metadata": {}
        }
      ]
    },
    {
      "cell_type": "code",
      "source": [
        "xb, yb = first(dl)\n",
        "xb.shape, yb.shape"
      ],
      "metadata": {
        "colab": {
          "base_uri": "https://localhost:8080/"
        },
        "id": "mmPSP9WVC_gO",
        "outputId": "b7e539d7-b853-4bd5-b20a-857a2485c414"
      },
      "execution_count": 64,
      "outputs": [
        {
          "output_type": "execute_result",
          "data": {
            "text/plain": [
              "(torch.Size([256, 784]), torch.Size([256]))"
            ]
          },
          "metadata": {},
          "execution_count": 64
        }
      ]
    },
    {
      "cell_type": "markdown",
      "source": [
        "# ReLU"
      ],
      "metadata": {
        "id": "VtCYdE0lWEm3"
      }
    },
    {
      "cell_type": "code",
      "source": [
        "def simple_neural(x, w1, b1, w2, b2):\n",
        "  lin1 = x @ w1 + b1\n",
        "  nonlin = lin1.max(tensor(0.0))\n",
        "  lin2 = nonlin @ w2 + b2\n",
        "  return lin2"
      ],
      "metadata": {
        "id": "s9fChzzVW9cE"
      },
      "execution_count": 151,
      "outputs": []
    },
    {
      "cell_type": "code",
      "source": [
        "simple_model = nn.Sequential(\n",
        "    nn.Linear(28*28, 30),\n",
        "    nn.ReLU(),\n",
        "    nn.Linear(30, 10)\n",
        ")\n",
        "\n",
        "learn = Learner(dls, simple_model, loss_func = mnist_loss_t, opt_func = SGD, lr = 0.1, metrics = accuracy, )"
      ],
      "metadata": {
        "id": "TDKgRHZhWGIs"
      },
      "execution_count": 148,
      "outputs": []
    },
    {
      "cell_type": "code",
      "source": [
        "learn.fit(10)"
      ],
      "metadata": {
        "colab": {
          "base_uri": "https://localhost:8080/",
          "height": 363
        },
        "id": "ck_74Dt-Whad",
        "outputId": "431ec2ac-4823-47ad-d46e-a6ae2b3aca84"
      },
      "execution_count": 149,
      "outputs": [
        {
          "output_type": "display_data",
          "data": {
            "text/plain": [
              "<IPython.core.display.HTML object>"
            ],
            "text/html": [
              "\n",
              "<style>\n",
              "    /* Turns off some styling */\n",
              "    progress {\n",
              "        /* gets rid of default border in Firefox and Opera. */\n",
              "        border: none;\n",
              "        /* Needs to be in here for Safari polyfill so background images work as expected. */\n",
              "        background-size: auto;\n",
              "    }\n",
              "    progress:not([value]), progress:not([value])::-webkit-progress-bar {\n",
              "        background: repeating-linear-gradient(45deg, #7e7e7e, #7e7e7e 10px, #5c5c5c 10px, #5c5c5c 20px);\n",
              "    }\n",
              "    .progress-bar-interrupted, .progress-bar-interrupted::-webkit-progress-bar {\n",
              "        background: #F44336;\n",
              "    }\n",
              "</style>\n"
            ]
          },
          "metadata": {}
        },
        {
          "output_type": "display_data",
          "data": {
            "text/plain": [
              "<IPython.core.display.HTML object>"
            ],
            "text/html": [
              "<table border=\"1\" class=\"dataframe\">\n",
              "  <thead>\n",
              "    <tr style=\"text-align: left;\">\n",
              "      <th>epoch</th>\n",
              "      <th>train_loss</th>\n",
              "      <th>valid_loss</th>\n",
              "      <th>accuracy</th>\n",
              "      <th>time</th>\n",
              "    </tr>\n",
              "  </thead>\n",
              "  <tbody>\n",
              "    <tr>\n",
              "      <td>0</td>\n",
              "      <td>2.305777</td>\n",
              "      <td>2.290212</td>\n",
              "      <td>0.133393</td>\n",
              "      <td>00:01</td>\n",
              "    </tr>\n",
              "    <tr>\n",
              "      <td>1</td>\n",
              "      <td>2.296615</td>\n",
              "      <td>2.274920</td>\n",
              "      <td>0.160193</td>\n",
              "      <td>00:01</td>\n",
              "    </tr>\n",
              "    <tr>\n",
              "      <td>2</td>\n",
              "      <td>2.288057</td>\n",
              "      <td>2.259823</td>\n",
              "      <td>0.184266</td>\n",
              "      <td>00:00</td>\n",
              "    </tr>\n",
              "    <tr>\n",
              "      <td>3</td>\n",
              "      <td>2.279636</td>\n",
              "      <td>2.244142</td>\n",
              "      <td>0.211321</td>\n",
              "      <td>00:00</td>\n",
              "    </tr>\n",
              "    <tr>\n",
              "      <td>4</td>\n",
              "      <td>2.271091</td>\n",
              "      <td>2.227719</td>\n",
              "      <td>0.230538</td>\n",
              "      <td>00:00</td>\n",
              "    </tr>\n",
              "    <tr>\n",
              "      <td>5</td>\n",
              "      <td>2.262310</td>\n",
              "      <td>2.210577</td>\n",
              "      <td>0.252479</td>\n",
              "      <td>00:01</td>\n",
              "    </tr>\n",
              "    <tr>\n",
              "      <td>6</td>\n",
              "      <td>2.253250</td>\n",
              "      <td>2.192815</td>\n",
              "      <td>0.272462</td>\n",
              "      <td>00:00</td>\n",
              "    </tr>\n",
              "    <tr>\n",
              "      <td>7</td>\n",
              "      <td>2.243896</td>\n",
              "      <td>2.174468</td>\n",
              "      <td>0.295680</td>\n",
              "      <td>00:00</td>\n",
              "    </tr>\n",
              "    <tr>\n",
              "      <td>8</td>\n",
              "      <td>2.234246</td>\n",
              "      <td>2.155544</td>\n",
              "      <td>0.319664</td>\n",
              "      <td>00:00</td>\n",
              "    </tr>\n",
              "    <tr>\n",
              "      <td>9</td>\n",
              "      <td>2.224299</td>\n",
              "      <td>2.136107</td>\n",
              "      <td>0.342937</td>\n",
              "      <td>00:00</td>\n",
              "    </tr>\n",
              "  </tbody>\n",
              "</table>"
            ]
          },
          "metadata": {}
        }
      ]
    },
    {
      "cell_type": "code",
      "source": [
        "L(learn.recorder.values).itemgot(1)"
      ],
      "metadata": {
        "colab": {
          "base_uri": "https://localhost:8080/"
        },
        "id": "FOvUVgN1Wmlh",
        "outputId": "c3dd0d56-0717-41ef-8a99-71621c07d987"
      },
      "execution_count": 161,
      "outputs": [
        {
          "output_type": "execute_result",
          "data": {
            "text/plain": [
              "(#10) [2.2902116775512695,2.2749199867248535,2.2598233222961426,2.2441420555114746,2.2277190685272217,2.2105772495269775,2.192815065383911,2.1744680404663086,2.1555442810058594,2.1361067295074463]"
            ]
          },
          "metadata": {},
          "execution_count": 161
        }
      ]
    },
    {
      "cell_type": "code",
      "source": [
        "dls = ImageDataLoaders.from_folder(path, train='training', valid='testing')\n",
        "learn = vision_learner(dls, resnet18, pretrained = False, loss_func = F.cross_entropy, metrics = accuracy)\n",
        "learn.fit_one_cycle(1, 0.1)"
      ],
      "metadata": {
        "colab": {
          "base_uri": "https://localhost:8080/",
          "height": 170
        },
        "id": "mDcsc3EcXwIs",
        "outputId": "de8bc1a4-09e7-4ffd-8d84-0cc8f9a7555d"
      },
      "execution_count": 5,
      "outputs": [
        {
          "output_type": "stream",
          "name": "stderr",
          "text": [
            "/usr/local/lib/python3.8/dist-packages/torchvision/models/_utils.py:208: UserWarning: The parameter 'pretrained' is deprecated since 0.13 and may be removed in the future, please use 'weights' instead.\n",
            "  warnings.warn(\n",
            "/usr/local/lib/python3.8/dist-packages/torchvision/models/_utils.py:223: UserWarning: Arguments other than a weight enum or `None` for 'weights' are deprecated since 0.13 and may be removed in the future. The current behavior is equivalent to passing `weights=None`.\n",
            "  warnings.warn(msg)\n"
          ]
        },
        {
          "output_type": "display_data",
          "data": {
            "text/plain": [
              "<IPython.core.display.HTML object>"
            ],
            "text/html": [
              "\n",
              "<style>\n",
              "    /* Turns off some styling */\n",
              "    progress {\n",
              "        /* gets rid of default border in Firefox and Opera. */\n",
              "        border: none;\n",
              "        /* Needs to be in here for Safari polyfill so background images work as expected. */\n",
              "        background-size: auto;\n",
              "    }\n",
              "    progress:not([value]), progress:not([value])::-webkit-progress-bar {\n",
              "        background: repeating-linear-gradient(45deg, #7e7e7e, #7e7e7e 10px, #5c5c5c 10px, #5c5c5c 20px);\n",
              "    }\n",
              "    .progress-bar-interrupted, .progress-bar-interrupted::-webkit-progress-bar {\n",
              "        background: #F44336;\n",
              "    }\n",
              "</style>\n"
            ]
          },
          "metadata": {}
        },
        {
          "output_type": "display_data",
          "data": {
            "text/plain": [
              "<IPython.core.display.HTML object>"
            ],
            "text/html": [
              "<table border=\"1\" class=\"dataframe\">\n",
              "  <thead>\n",
              "    <tr style=\"text-align: left;\">\n",
              "      <th>epoch</th>\n",
              "      <th>train_loss</th>\n",
              "      <th>valid_loss</th>\n",
              "      <th>accuracy</th>\n",
              "      <th>time</th>\n",
              "    </tr>\n",
              "  </thead>\n",
              "  <tbody>\n",
              "    <tr>\n",
              "      <td>0</td>\n",
              "      <td>0.105979</td>\n",
              "      <td>0.053680</td>\n",
              "      <td>0.982700</td>\n",
              "      <td>01:26</td>\n",
              "    </tr>\n",
              "  </tbody>\n",
              "</table>"
            ]
          },
          "metadata": {}
        }
      ]
    }
  ]
}